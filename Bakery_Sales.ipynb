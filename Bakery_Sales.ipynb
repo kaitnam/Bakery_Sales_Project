{
 "cells": [
  {
   "cell_type": "code",
   "execution_count": 23,
   "id": "f1ee5fb6",
   "metadata": {},
   "outputs": [],
   "source": [
    "import pandas as pd\n",
    "import matplotlib.pyplot as plt\n",
    "import numpy as np\n",
    "import seaborn as sns\n",
    "import warnings\n",
    "warnings.filterwarnings('ignore')\n",
    "\n",
    "from matplotlib import font_manager,rc"
   ]
  },
  {
   "cell_type": "code",
   "execution_count": 2,
   "id": "cb3aef4c",
   "metadata": {},
   "outputs": [
    {
     "data": {
      "text/html": [
       "<div>\n",
       "<style scoped>\n",
       "    .dataframe tbody tr th:only-of-type {\n",
       "        vertical-align: middle;\n",
       "    }\n",
       "\n",
       "    .dataframe tbody tr th {\n",
       "        vertical-align: top;\n",
       "    }\n",
       "\n",
       "    .dataframe thead th {\n",
       "        text-align: right;\n",
       "    }\n",
       "</style>\n",
       "<table border=\"1\" class=\"dataframe\">\n",
       "  <thead>\n",
       "    <tr style=\"text-align: right;\">\n",
       "      <th></th>\n",
       "      <th>번호</th>\n",
       "      <th>날짜</th>\n",
       "      <th>닉네임</th>\n",
       "      <th>별점(1~5)</th>\n",
       "      <th>배달평가(좋다,아쉽다)</th>\n",
       "      <th>주문메뉴1</th>\n",
       "      <th>주문메뉴2</th>\n",
       "      <th>주문메뉴3</th>\n",
       "      <th>주문메뉴4</th>\n",
       "      <th>사진1</th>\n",
       "      <th>사진2</th>\n",
       "      <th>리뷰</th>\n",
       "    </tr>\n",
       "  </thead>\n",
       "  <tbody>\n",
       "    <tr>\n",
       "      <th>0</th>\n",
       "      <td>1.0</td>\n",
       "      <td>2021.11</td>\n",
       "      <td>배고프앙</td>\n",
       "      <td>3.0</td>\n",
       "      <td>아쉬워요,매우늦게도착</td>\n",
       "      <td>애플시나몬 크로플</td>\n",
       "      <td>무화과 그릭요거트</td>\n",
       "      <td>NaN</td>\n",
       "      <td>NaN</td>\n",
       "      <td>13394690_190204000752124314_1_b.jpg</td>\n",
       "      <td>NaN</td>\n",
       "      <td>일단 애플시나몬크로플은 맛있었어요. 특이하기도했구요. 근데 1일 1그릭요거트를 하는...</td>\n",
       "    </tr>\n",
       "    <tr>\n",
       "      <th>1</th>\n",
       "      <td>2.0</td>\n",
       "      <td>2021.11</td>\n",
       "      <td>박마더</td>\n",
       "      <td>5.0</td>\n",
       "      <td>좋아요</td>\n",
       "      <td>마약 크로플</td>\n",
       "      <td>(New) 무지개 그릭 요거트</td>\n",
       "      <td>NaN</td>\n",
       "      <td>NaN</td>\n",
       "      <td>34240823_191017000891183040_1_b.jpg</td>\n",
       "      <td>34240824_191017000891183040_2_b.jpg</td>\n",
       "      <td>그릭요거트랑 크로플 조합최고네요다만ㅠ 기다리던 아이스크림이 오지않아 환불요청드렷습니다</td>\n",
       "    </tr>\n",
       "    <tr>\n",
       "      <th>2</th>\n",
       "      <td>3.0</td>\n",
       "      <td>2021.11</td>\n",
       "      <td>예민보스</td>\n",
       "      <td>5.0</td>\n",
       "      <td>NaN</td>\n",
       "      <td>커피 밀크티</td>\n",
       "      <td>애넘 밀크티</td>\n",
       "      <td>NaN</td>\n",
       "      <td>NaN</td>\n",
       "      <td>NaN</td>\n",
       "      <td>NaN</td>\n",
       "      <td>지난 번에 주문실수해서 전화 드렸더니 엄청 친절히 대해주시고 또 음료도 맛있어서 다...</td>\n",
       "    </tr>\n",
       "    <tr>\n",
       "      <th>3</th>\n",
       "      <td>4.0</td>\n",
       "      <td>2021.11</td>\n",
       "      <td>먹깨비</td>\n",
       "      <td>5.0</td>\n",
       "      <td>NaN</td>\n",
       "      <td>피스타치오 스무디</td>\n",
       "      <td>까망애플수박주스</td>\n",
       "      <td>애넘 밀크티</td>\n",
       "      <td>NaN</td>\n",
       "      <td>2172468_201106009039093612_1_b.jpg</td>\n",
       "      <td>NaN</td>\n",
       "      <td>음료들 맛있어요~</td>\n",
       "    </tr>\n",
       "    <tr>\n",
       "      <th>4</th>\n",
       "      <td>5.0</td>\n",
       "      <td>2021.11</td>\n",
       "      <td>라라랜드123</td>\n",
       "      <td>5.0</td>\n",
       "      <td>NaN</td>\n",
       "      <td>(New) 무지개 그릭 요거트</td>\n",
       "      <td>마약 크로플</td>\n",
       "      <td>로또딸기요거트스무디</td>\n",
       "      <td>NaN</td>\n",
       "      <td>41999192_200717008700203958_1_b.jpg</td>\n",
       "      <td>NaN</td>\n",
       "      <td>크로플은 디에스티가 짱!!신메뉴도 맛있어요 ㅎㅎㅎ 서비스 생크림 감사합니다 :)</td>\n",
       "    </tr>\n",
       "  </tbody>\n",
       "</table>\n",
       "</div>"
      ],
      "text/plain": [
       "    번호       날짜      닉네임  별점(1~5) 배달평가(좋다,아쉽다)             주문메뉴1  \\\n",
       "0  1.0  2021.11     배고프앙      3.0  아쉬워요,매우늦게도착         애플시나몬 크로플   \n",
       "1  2.0  2021.11      박마더      5.0          좋아요            마약 크로플   \n",
       "2  3.0  2021.11     예민보스      5.0          NaN            커피 밀크티   \n",
       "3  4.0  2021.11      먹깨비      5.0          NaN         피스타치오 스무디   \n",
       "4  5.0  2021.11  라라랜드123      5.0          NaN  (New) 무지개 그릭 요거트   \n",
       "\n",
       "              주문메뉴2       주문메뉴3 주문메뉴4                                  사진1  \\\n",
       "0         무화과 그릭요거트         NaN   NaN  13394690_190204000752124314_1_b.jpg   \n",
       "1  (New) 무지개 그릭 요거트         NaN   NaN  34240823_191017000891183040_1_b.jpg   \n",
       "2            애넘 밀크티         NaN   NaN                                  NaN   \n",
       "3          까망애플수박주스      애넘 밀크티   NaN   2172468_201106009039093612_1_b.jpg   \n",
       "4            마약 크로플  로또딸기요거트스무디   NaN  41999192_200717008700203958_1_b.jpg   \n",
       "\n",
       "                                   사진2  \\\n",
       "0                                  NaN   \n",
       "1  34240824_191017000891183040_2_b.jpg   \n",
       "2                                  NaN   \n",
       "3                                  NaN   \n",
       "4                                  NaN   \n",
       "\n",
       "                                                  리뷰  \n",
       "0  일단 애플시나몬크로플은 맛있었어요. 특이하기도했구요. 근데 1일 1그릭요거트를 하는...  \n",
       "1    그릭요거트랑 크로플 조합최고네요다만ㅠ 기다리던 아이스크림이 오지않아 환불요청드렷습니다  \n",
       "2  지난 번에 주문실수해서 전화 드렸더니 엄청 친절히 대해주시고 또 음료도 맛있어서 다...  \n",
       "3                                          음료들 맛있어요~  \n",
       "4       크로플은 디에스티가 짱!!신메뉴도 맛있어요 ㅎㅎㅎ 서비스 생크림 감사합니다 :)  "
      ]
     },
     "execution_count": 2,
     "metadata": {},
     "output_type": "execute_result"
    }
   ],
   "source": [
    "#review = pd.read_excel(\"E:\\Kaggle_Practice\\BaeMin/review.xlsx\",engine='openpyxl')\n",
    "#review.head()"
   ]
  },
  {
   "cell_type": "code",
   "execution_count": 6,
   "id": "ac6bc243",
   "metadata": {},
   "outputs": [
    {
     "data": {
      "text/html": [
       "<div>\n",
       "<style scoped>\n",
       "    .dataframe tbody tr th:only-of-type {\n",
       "        vertical-align: middle;\n",
       "    }\n",
       "\n",
       "    .dataframe tbody tr th {\n",
       "        vertical-align: top;\n",
       "    }\n",
       "\n",
       "    .dataframe thead th {\n",
       "        text-align: right;\n",
       "    }\n",
       "</style>\n",
       "<table border=\"1\" class=\"dataframe\">\n",
       "  <thead>\n",
       "    <tr style=\"text-align: right;\">\n",
       "      <th></th>\n",
       "      <th>날짜</th>\n",
       "      <th>닉네임</th>\n",
       "      <th>별점(1~5)</th>\n",
       "      <th>배달평가(좋다,아쉽다)</th>\n",
       "      <th>주문메뉴1</th>\n",
       "      <th>주문메뉴2</th>\n",
       "      <th>주문메뉴3</th>\n",
       "      <th>주문메뉴4</th>\n",
       "      <th>사진1</th>\n",
       "      <th>사진2</th>\n",
       "      <th>...</th>\n",
       "      <th>Unnamed: 14</th>\n",
       "      <th>Unnamed: 15</th>\n",
       "      <th>Unnamed: 16</th>\n",
       "      <th>Unnamed: 17</th>\n",
       "      <th>Unnamed: 18</th>\n",
       "      <th>Unnamed: 19</th>\n",
       "      <th>Unnamed: 20</th>\n",
       "      <th>Unnamed: 21</th>\n",
       "      <th>Unnamed: 22</th>\n",
       "      <th>Unnamed: 23</th>\n",
       "    </tr>\n",
       "  </thead>\n",
       "  <tbody>\n",
       "    <tr>\n",
       "      <th>0</th>\n",
       "      <td>2020</td>\n",
       "      <td>ssuw****</td>\n",
       "      <td>5</td>\n",
       "      <td>NaN</td>\n",
       "      <td>애넘 밀크티</td>\n",
       "      <td>NaN</td>\n",
       "      <td>NaN</td>\n",
       "      <td>NaN</td>\n",
       "      <td>25306131_190930004223160145_1_b.jpg</td>\n",
       "      <td>NaN</td>\n",
       "      <td>...</td>\n",
       "      <td>NaN</td>\n",
       "      <td>NaN</td>\n",
       "      <td>NaN</td>\n",
       "      <td>NaN</td>\n",
       "      <td>NaN</td>\n",
       "      <td>NaN</td>\n",
       "      <td>NaN</td>\n",
       "      <td>NaN</td>\n",
       "      <td>NaN</td>\n",
       "      <td>NaN</td>\n",
       "    </tr>\n",
       "    <tr>\n",
       "      <th>1</th>\n",
       "      <td>2020</td>\n",
       "      <td>salut0506</td>\n",
       "      <td>4</td>\n",
       "      <td>NaN</td>\n",
       "      <td>마약크로플 + 로또딸기요거트 + 미니크로플</td>\n",
       "      <td>NaN</td>\n",
       "      <td>NaN</td>\n",
       "      <td>NaN</td>\n",
       "      <td>NaN</td>\n",
       "      <td>NaN</td>\n",
       "      <td>...</td>\n",
       "      <td>NaN</td>\n",
       "      <td>NaN</td>\n",
       "      <td>NaN</td>\n",
       "      <td>NaN</td>\n",
       "      <td>NaN</td>\n",
       "      <td>NaN</td>\n",
       "      <td>NaN</td>\n",
       "      <td>NaN</td>\n",
       "      <td>NaN</td>\n",
       "      <td>NaN</td>\n",
       "    </tr>\n",
       "    <tr>\n",
       "      <th>2</th>\n",
       "      <td>2020</td>\n",
       "      <td>배미니</td>\n",
       "      <td>5</td>\n",
       "      <td>NaN</td>\n",
       "      <td>녹차 밀크티</td>\n",
       "      <td>쿠키앤크림</td>\n",
       "      <td>마약 크로플</td>\n",
       "      <td>NaN</td>\n",
       "      <td>31346867_200721006886174226_1_b.jpg</td>\n",
       "      <td>NaN</td>\n",
       "      <td>...</td>\n",
       "      <td>NaN</td>\n",
       "      <td>NaN</td>\n",
       "      <td>NaN</td>\n",
       "      <td>NaN</td>\n",
       "      <td>NaN</td>\n",
       "      <td>NaN</td>\n",
       "      <td>NaN</td>\n",
       "      <td>NaN</td>\n",
       "      <td>NaN</td>\n",
       "      <td>NaN</td>\n",
       "    </tr>\n",
       "    <tr>\n",
       "      <th>3</th>\n",
       "      <td>2020</td>\n",
       "      <td>gia0****</td>\n",
       "      <td>5</td>\n",
       "      <td>NaN</td>\n",
       "      <td>마약 크로플</td>\n",
       "      <td>애넘 밀크티</td>\n",
       "      <td>오키나와 스무디</td>\n",
       "      <td>NaN</td>\n",
       "      <td>NaN</td>\n",
       "      <td>NaN</td>\n",
       "      <td>...</td>\n",
       "      <td>NaN</td>\n",
       "      <td>NaN</td>\n",
       "      <td>NaN</td>\n",
       "      <td>NaN</td>\n",
       "      <td>NaN</td>\n",
       "      <td>NaN</td>\n",
       "      <td>NaN</td>\n",
       "      <td>NaN</td>\n",
       "      <td>NaN</td>\n",
       "      <td>NaN</td>\n",
       "    </tr>\n",
       "    <tr>\n",
       "      <th>4</th>\n",
       "      <td>2020</td>\n",
       "      <td>바라</td>\n",
       "      <td>5</td>\n",
       "      <td>NaN</td>\n",
       "      <td>수제 티라미수</td>\n",
       "      <td>징징이스무디</td>\n",
       "      <td>애넘 밀크티</td>\n",
       "      <td>NaN</td>\n",
       "      <td>29157484_190115009764170557_1_b.jpg</td>\n",
       "      <td>29157485_190115009764170557_2_b.jpg</td>\n",
       "      <td>...</td>\n",
       "      <td>NaN</td>\n",
       "      <td>NaN</td>\n",
       "      <td>NaN</td>\n",
       "      <td>NaN</td>\n",
       "      <td>NaN</td>\n",
       "      <td>NaN</td>\n",
       "      <td>NaN</td>\n",
       "      <td>NaN</td>\n",
       "      <td>NaN</td>\n",
       "      <td>NaN</td>\n",
       "    </tr>\n",
       "  </tbody>\n",
       "</table>\n",
       "<p>5 rows × 24 columns</p>\n",
       "</div>"
      ],
      "text/plain": [
       "     날짜        닉네임  별점(1~5)  배달평가(좋다,아쉽다)                    주문메뉴1   주문메뉴2  \\\n",
       "0  2020   ssuw****        5           NaN                   애넘 밀크티     NaN   \n",
       "1  2020  salut0506        4           NaN  마약크로플 + 로또딸기요거트 + 미니크로플     NaN   \n",
       "2  2020        배미니        5           NaN                   녹차 밀크티   쿠키앤크림   \n",
       "3  2020   gia0****        5           NaN                   마약 크로플  애넘 밀크티   \n",
       "4  2020         바라        5           NaN                  수제 티라미수  징징이스무디   \n",
       "\n",
       "      주문메뉴3 주문메뉴4                                  사진1  \\\n",
       "0       NaN   NaN  25306131_190930004223160145_1_b.jpg   \n",
       "1       NaN   NaN                                  NaN   \n",
       "2    마약 크로플   NaN  31346867_200721006886174226_1_b.jpg   \n",
       "3  오키나와 스무디   NaN                                  NaN   \n",
       "4    애넘 밀크티   NaN  29157484_190115009764170557_1_b.jpg   \n",
       "\n",
       "                                   사진2  ... Unnamed: 14  Unnamed: 15  \\\n",
       "0                                  NaN  ...         NaN          NaN   \n",
       "1                                  NaN  ...         NaN          NaN   \n",
       "2                                  NaN  ...         NaN          NaN   \n",
       "3                                  NaN  ...         NaN          NaN   \n",
       "4  29157485_190115009764170557_2_b.jpg  ...         NaN          NaN   \n",
       "\n",
       "   Unnamed: 16  Unnamed: 17  Unnamed: 18  Unnamed: 19  Unnamed: 20  \\\n",
       "0          NaN          NaN          NaN          NaN          NaN   \n",
       "1          NaN          NaN          NaN          NaN          NaN   \n",
       "2          NaN          NaN          NaN          NaN          NaN   \n",
       "3          NaN          NaN          NaN          NaN          NaN   \n",
       "4          NaN          NaN          NaN          NaN          NaN   \n",
       "\n",
       "   Unnamed: 21  Unnamed: 22  Unnamed: 23  \n",
       "0          NaN          NaN          NaN  \n",
       "1          NaN          NaN          NaN  \n",
       "2          NaN          NaN          NaN  \n",
       "3          NaN          NaN          NaN  \n",
       "4          NaN          NaN          NaN  \n",
       "\n",
       "[5 rows x 24 columns]"
      ]
     },
     "execution_count": 6,
     "metadata": {},
     "output_type": "execute_result"
    }
   ],
   "source": [
    "review2020 = pd.read_csv(\"E:/Kaggle_Practice/BaeMin/review2020.csv\")\n",
    "review2020.head()"
   ]
  },
  {
   "cell_type": "code",
   "execution_count": 7,
   "id": "86f70723",
   "metadata": {},
   "outputs": [],
   "source": [
    "review2020 = review2020.drop(columns=['Unnamed: 11','Unnamed: 12','Unnamed: 13','Unnamed: 14','Unnamed: 15','Unnamed: 16','Unnamed: 17','Unnamed: 18','Unnamed: 19','Unnamed: 20',\n",
    "                                     'Unnamed: 21','Unnamed: 22','Unnamed: 23'])"
   ]
  },
  {
   "cell_type": "code",
   "execution_count": 8,
   "id": "cc7fa90b",
   "metadata": {},
   "outputs": [
    {
     "data": {
      "text/html": [
       "<div>\n",
       "<style scoped>\n",
       "    .dataframe tbody tr th:only-of-type {\n",
       "        vertical-align: middle;\n",
       "    }\n",
       "\n",
       "    .dataframe tbody tr th {\n",
       "        vertical-align: top;\n",
       "    }\n",
       "\n",
       "    .dataframe thead th {\n",
       "        text-align: right;\n",
       "    }\n",
       "</style>\n",
       "<table border=\"1\" class=\"dataframe\">\n",
       "  <thead>\n",
       "    <tr style=\"text-align: right;\">\n",
       "      <th></th>\n",
       "      <th>날짜</th>\n",
       "      <th>닉네임</th>\n",
       "      <th>별점(1~5)</th>\n",
       "      <th>배달평가(좋다,아쉽다)</th>\n",
       "      <th>주문메뉴1</th>\n",
       "      <th>주문메뉴2</th>\n",
       "      <th>주문메뉴3</th>\n",
       "      <th>주문메뉴4</th>\n",
       "      <th>사진1</th>\n",
       "      <th>사진2</th>\n",
       "      <th>리뷰</th>\n",
       "    </tr>\n",
       "  </thead>\n",
       "  <tbody>\n",
       "    <tr>\n",
       "      <th>0</th>\n",
       "      <td>2020</td>\n",
       "      <td>ssuw****</td>\n",
       "      <td>5</td>\n",
       "      <td>NaN</td>\n",
       "      <td>애넘 밀크티</td>\n",
       "      <td>NaN</td>\n",
       "      <td>NaN</td>\n",
       "      <td>NaN</td>\n",
       "      <td>25306131_190930004223160145_1_b.jpg</td>\n",
       "      <td>NaN</td>\n",
       "      <td>임신했을 때 자주 가서 사 마셨는데 어느 날 가게가 문 닫은거 같아 아쉬웠어요. 배...</td>\n",
       "    </tr>\n",
       "    <tr>\n",
       "      <th>1</th>\n",
       "      <td>2020</td>\n",
       "      <td>salut0506</td>\n",
       "      <td>4</td>\n",
       "      <td>NaN</td>\n",
       "      <td>마약크로플 + 로또딸기요거트 + 미니크로플</td>\n",
       "      <td>NaN</td>\n",
       "      <td>NaN</td>\n",
       "      <td>NaN</td>\n",
       "      <td>NaN</td>\n",
       "      <td>NaN</td>\n",
       "      <td>크로플 맛있는데 원래 빨대는 같이 안오나요?</td>\n",
       "    </tr>\n",
       "    <tr>\n",
       "      <th>2</th>\n",
       "      <td>2020</td>\n",
       "      <td>배미니</td>\n",
       "      <td>5</td>\n",
       "      <td>NaN</td>\n",
       "      <td>녹차 밀크티</td>\n",
       "      <td>쿠키앤크림</td>\n",
       "      <td>마약 크로플</td>\n",
       "      <td>NaN</td>\n",
       "      <td>31346867_200721006886174226_1_b.jpg</td>\n",
       "      <td>NaN</td>\n",
       "      <td>처음 먹어보는데 정말 맛있었어요!! 특히 크로플은 만드는 곳마다 조금 부담스러운 맛...</td>\n",
       "    </tr>\n",
       "    <tr>\n",
       "      <th>3</th>\n",
       "      <td>2020</td>\n",
       "      <td>gia0****</td>\n",
       "      <td>5</td>\n",
       "      <td>NaN</td>\n",
       "      <td>마약 크로플</td>\n",
       "      <td>애넘 밀크티</td>\n",
       "      <td>오키나와 스무디</td>\n",
       "      <td>NaN</td>\n",
       "      <td>NaN</td>\n",
       "      <td>NaN</td>\n",
       "      <td>NaN</td>\n",
       "    </tr>\n",
       "    <tr>\n",
       "      <th>4</th>\n",
       "      <td>2020</td>\n",
       "      <td>바라</td>\n",
       "      <td>5</td>\n",
       "      <td>NaN</td>\n",
       "      <td>수제 티라미수</td>\n",
       "      <td>징징이스무디</td>\n",
       "      <td>애넘 밀크티</td>\n",
       "      <td>NaN</td>\n",
       "      <td>29157484_190115009764170557_1_b.jpg</td>\n",
       "      <td>29157485_190115009764170557_2_b.jpg</td>\n",
       "      <td>징징이 스무디 처음 마셔봤어요, 색이 너무 예뻐요. 몽실몽실 달콤한 피스타치오 아이...</td>\n",
       "    </tr>\n",
       "  </tbody>\n",
       "</table>\n",
       "</div>"
      ],
      "text/plain": [
       "     날짜        닉네임  별점(1~5)  배달평가(좋다,아쉽다)                    주문메뉴1   주문메뉴2  \\\n",
       "0  2020   ssuw****        5           NaN                   애넘 밀크티     NaN   \n",
       "1  2020  salut0506        4           NaN  마약크로플 + 로또딸기요거트 + 미니크로플     NaN   \n",
       "2  2020        배미니        5           NaN                   녹차 밀크티   쿠키앤크림   \n",
       "3  2020   gia0****        5           NaN                   마약 크로플  애넘 밀크티   \n",
       "4  2020         바라        5           NaN                  수제 티라미수  징징이스무디   \n",
       "\n",
       "      주문메뉴3 주문메뉴4                                  사진1  \\\n",
       "0       NaN   NaN  25306131_190930004223160145_1_b.jpg   \n",
       "1       NaN   NaN                                  NaN   \n",
       "2    마약 크로플   NaN  31346867_200721006886174226_1_b.jpg   \n",
       "3  오키나와 스무디   NaN                                  NaN   \n",
       "4    애넘 밀크티   NaN  29157484_190115009764170557_1_b.jpg   \n",
       "\n",
       "                                   사진2  \\\n",
       "0                                  NaN   \n",
       "1                                  NaN   \n",
       "2                                  NaN   \n",
       "3                                  NaN   \n",
       "4  29157485_190115009764170557_2_b.jpg   \n",
       "\n",
       "                                                  리뷰  \n",
       "0  임신했을 때 자주 가서 사 마셨는데 어느 날 가게가 문 닫은거 같아 아쉬웠어요. 배...  \n",
       "1                           크로플 맛있는데 원래 빨대는 같이 안오나요?  \n",
       "2  처음 먹어보는데 정말 맛있었어요!! 특히 크로플은 만드는 곳마다 조금 부담스러운 맛...  \n",
       "3                                                NaN  \n",
       "4  징징이 스무디 처음 마셔봤어요, 색이 너무 예뻐요. 몽실몽실 달콤한 피스타치오 아이...  "
      ]
     },
     "execution_count": 8,
     "metadata": {},
     "output_type": "execute_result"
    }
   ],
   "source": [
    "review2020.head()"
   ]
  },
  {
   "cell_type": "code",
   "execution_count": 2,
   "id": "aecdd6f7",
   "metadata": {},
   "outputs": [
    {
     "data": {
      "text/html": [
       "<div>\n",
       "<style scoped>\n",
       "    .dataframe tbody tr th:only-of-type {\n",
       "        vertical-align: middle;\n",
       "    }\n",
       "\n",
       "    .dataframe tbody tr th {\n",
       "        vertical-align: top;\n",
       "    }\n",
       "\n",
       "    .dataframe thead th {\n",
       "        text-align: right;\n",
       "    }\n",
       "</style>\n",
       "<table border=\"1\" class=\"dataframe\">\n",
       "  <thead>\n",
       "    <tr style=\"text-align: right;\">\n",
       "      <th></th>\n",
       "      <th>날짜</th>\n",
       "      <th>닉네임</th>\n",
       "      <th>별점(1~5)</th>\n",
       "      <th>배달평가(좋다,아쉽다)</th>\n",
       "      <th>주문메뉴1</th>\n",
       "      <th>주문메뉴2</th>\n",
       "      <th>주문메뉴3</th>\n",
       "      <th>주문메뉴4</th>\n",
       "      <th>사진1</th>\n",
       "      <th>사진2</th>\n",
       "      <th>리뷰</th>\n",
       "    </tr>\n",
       "  </thead>\n",
       "  <tbody>\n",
       "    <tr>\n",
       "      <th>0</th>\n",
       "      <td>2021.11</td>\n",
       "      <td>동망산</td>\n",
       "      <td>5</td>\n",
       "      <td>NaN</td>\n",
       "      <td>애넘 밀크티</td>\n",
       "      <td>마약 크로플</td>\n",
       "      <td>NaN</td>\n",
       "      <td>NaN</td>\n",
       "      <td>63017920_190218009622023017_1_b.jpg</td>\n",
       "      <td>36674163_190113002000191113_2_b.jpg</td>\n",
       "      <td>시켜먹고 그 다음날 또 시키게 만드는 마력의 디에스티... 이틀연속 시켜먹었습니다....</td>\n",
       "    </tr>\n",
       "    <tr>\n",
       "      <th>1</th>\n",
       "      <td>2021.11</td>\n",
       "      <td>khee****</td>\n",
       "      <td>5</td>\n",
       "      <td>좋아요</td>\n",
       "      <td>마약 크로플</td>\n",
       "      <td>애넘 밀크티</td>\n",
       "      <td>그릭요거트 90g</td>\n",
       "      <td>NaN</td>\n",
       "      <td>23172422_150811001989152612_1_b.jpg</td>\n",
       "      <td>NaN</td>\n",
       "      <td>저의 최애 크로플가게입니다. 오늘도 서비스가 대단히 대단합니다^^ 전 그릭요거트만 ...</td>\n",
       "    </tr>\n",
       "    <tr>\n",
       "      <th>2</th>\n",
       "      <td>2021.11</td>\n",
       "      <td>동망산</td>\n",
       "      <td>5</td>\n",
       "      <td>NaN</td>\n",
       "      <td>민트초코 스무디</td>\n",
       "      <td>생딸기생크림 크로플</td>\n",
       "      <td>NaN</td>\n",
       "      <td>NaN</td>\n",
       "      <td>43700183_190218009622210819_1_b.jpg</td>\n",
       "      <td>23172423_150811001989152612_2_b.jpg</td>\n",
       "      <td>진짜 맛있어요..!! 딸기도 완전 많구 크림도 안느끼해여 코코아파우더를 뿌려주신건지...</td>\n",
       "    </tr>\n",
       "    <tr>\n",
       "      <th>3</th>\n",
       "      <td>2021.11</td>\n",
       "      <td>버민</td>\n",
       "      <td>5</td>\n",
       "      <td>좋아요</td>\n",
       "      <td>애넘 밀크티</td>\n",
       "      <td>마약 크로플</td>\n",
       "      <td>NaN</td>\n",
       "      <td>NaN</td>\n",
       "      <td>19148629_190611001358141908_1_b.jpg</td>\n",
       "      <td>NaN</td>\n",
       "      <td>서비스까지 넘무 감사합니다 ㅠ 믿고..먹는..디에스티.. 크로플도 최고입니다ㅜ 번창...</td>\n",
       "    </tr>\n",
       "    <tr>\n",
       "      <th>4</th>\n",
       "      <td>2021.11</td>\n",
       "      <td>Good</td>\n",
       "      <td>5</td>\n",
       "      <td>좋아요</td>\n",
       "      <td>애플시나몬 크로플</td>\n",
       "      <td>애넘 밀크티</td>\n",
       "      <td>샤인청포도주스</td>\n",
       "      <td>NaN</td>\n",
       "      <td>NaN</td>\n",
       "      <td>NaN</td>\n",
       "      <td>크로플 맛있어요! 애플시나몬에 사과가 찐이에요! 샤인청포도도 찐 청포도라 맛있어요 ...</td>\n",
       "    </tr>\n",
       "  </tbody>\n",
       "</table>\n",
       "</div>"
      ],
      "text/plain": [
       "        날짜       닉네임  별점(1~5) 배달평가(좋다,아쉽다)      주문메뉴1       주문메뉴2      주문메뉴3  \\\n",
       "0  2021.11       동망산        5          NaN     애넘 밀크티      마약 크로플        NaN   \n",
       "1  2021.11  khee****        5          좋아요     마약 크로플      애넘 밀크티  그릭요거트 90g   \n",
       "2  2021.11       동망산        5          NaN   민트초코 스무디  생딸기생크림 크로플        NaN   \n",
       "3  2021.11        버민        5          좋아요     애넘 밀크티      마약 크로플        NaN   \n",
       "4  2021.11      Good        5          좋아요  애플시나몬 크로플      애넘 밀크티    샤인청포도주스   \n",
       "\n",
       "  주문메뉴4                                  사진1  \\\n",
       "0   NaN  63017920_190218009622023017_1_b.jpg   \n",
       "1   NaN  23172422_150811001989152612_1_b.jpg   \n",
       "2   NaN  43700183_190218009622210819_1_b.jpg   \n",
       "3   NaN  19148629_190611001358141908_1_b.jpg   \n",
       "4   NaN                                  NaN   \n",
       "\n",
       "                                   사진2  \\\n",
       "0  36674163_190113002000191113_2_b.jpg   \n",
       "1                                  NaN   \n",
       "2  23172423_150811001989152612_2_b.jpg   \n",
       "3                                  NaN   \n",
       "4                                  NaN   \n",
       "\n",
       "                                                  리뷰  \n",
       "0  시켜먹고 그 다음날 또 시키게 만드는 마력의 디에스티... 이틀연속 시켜먹었습니다....  \n",
       "1  저의 최애 크로플가게입니다. 오늘도 서비스가 대단히 대단합니다^^ 전 그릭요거트만 ...  \n",
       "2  진짜 맛있어요..!! 딸기도 완전 많구 크림도 안느끼해여 코코아파우더를 뿌려주신건지...  \n",
       "3  서비스까지 넘무 감사합니다 ㅠ 믿고..먹는..디에스티.. 크로플도 최고입니다ㅜ 번창...  \n",
       "4  크로플 맛있어요! 애플시나몬에 사과가 찐이에요! 샤인청포도도 찐 청포도라 맛있어요 ...  "
      ]
     },
     "execution_count": 2,
     "metadata": {},
     "output_type": "execute_result"
    }
   ],
   "source": [
    "review2021 = pd.read_csv(\"E:/Kaggle_Practice/BaeMin/review2021.csv\")\n",
    "review2021.head()"
   ]
  },
  {
   "cell_type": "code",
   "execution_count": 36,
   "id": "c670e206",
   "metadata": {},
   "outputs": [
    {
     "data": {
      "text/plain": [
       "(799, 11)"
      ]
     },
     "execution_count": 36,
     "metadata": {},
     "output_type": "execute_result"
    }
   ],
   "source": [
    "review2021.shape"
   ]
  },
  {
   "cell_type": "code",
   "execution_count": 37,
   "id": "e0406072",
   "metadata": {},
   "outputs": [
    {
     "data": {
      "text/plain": [
       "(399, 24)"
      ]
     },
     "execution_count": 37,
     "metadata": {},
     "output_type": "execute_result"
    }
   ],
   "source": [
    "review2020.shape"
   ]
  },
  {
   "cell_type": "code",
   "execution_count": 38,
   "id": "3e975675",
   "metadata": {},
   "outputs": [
    {
     "data": {
      "text/plain": [
       "(1198, 24)"
      ]
     },
     "execution_count": 38,
     "metadata": {},
     "output_type": "execute_result"
    }
   ],
   "source": [
    "review = pd.concat([review2020,review2021], ignore_index=True)\n",
    "review.shape"
   ]
  },
  {
   "cell_type": "code",
   "execution_count": 39,
   "id": "a6153f68",
   "metadata": {},
   "outputs": [
    {
     "data": {
      "text/html": [
       "<div>\n",
       "<style scoped>\n",
       "    .dataframe tbody tr th:only-of-type {\n",
       "        vertical-align: middle;\n",
       "    }\n",
       "\n",
       "    .dataframe tbody tr th {\n",
       "        vertical-align: top;\n",
       "    }\n",
       "\n",
       "    .dataframe thead th {\n",
       "        text-align: right;\n",
       "    }\n",
       "</style>\n",
       "<table border=\"1\" class=\"dataframe\">\n",
       "  <thead>\n",
       "    <tr style=\"text-align: right;\">\n",
       "      <th></th>\n",
       "      <th>날짜</th>\n",
       "      <th>닉네임</th>\n",
       "      <th>별점(1~5)</th>\n",
       "      <th>배달평가(좋다,아쉽다)</th>\n",
       "      <th>주문메뉴1</th>\n",
       "      <th>주문메뉴2</th>\n",
       "      <th>주문메뉴3</th>\n",
       "      <th>주문메뉴4</th>\n",
       "      <th>사진1</th>\n",
       "      <th>사진2</th>\n",
       "      <th>...</th>\n",
       "      <th>Unnamed: 14</th>\n",
       "      <th>Unnamed: 15</th>\n",
       "      <th>Unnamed: 16</th>\n",
       "      <th>Unnamed: 17</th>\n",
       "      <th>Unnamed: 18</th>\n",
       "      <th>Unnamed: 19</th>\n",
       "      <th>Unnamed: 20</th>\n",
       "      <th>Unnamed: 21</th>\n",
       "      <th>Unnamed: 22</th>\n",
       "      <th>Unnamed: 23</th>\n",
       "    </tr>\n",
       "  </thead>\n",
       "  <tbody>\n",
       "    <tr>\n",
       "      <th>0</th>\n",
       "      <td>2020</td>\n",
       "      <td>ssuw****</td>\n",
       "      <td>5</td>\n",
       "      <td>NaN</td>\n",
       "      <td>애넘 밀크티</td>\n",
       "      <td>NaN</td>\n",
       "      <td>NaN</td>\n",
       "      <td>NaN</td>\n",
       "      <td>25306131_190930004223160145_1_b.jpg</td>\n",
       "      <td>NaN</td>\n",
       "      <td>...</td>\n",
       "      <td>NaN</td>\n",
       "      <td>NaN</td>\n",
       "      <td>NaN</td>\n",
       "      <td>NaN</td>\n",
       "      <td>NaN</td>\n",
       "      <td>NaN</td>\n",
       "      <td>NaN</td>\n",
       "      <td>NaN</td>\n",
       "      <td>NaN</td>\n",
       "      <td>NaN</td>\n",
       "    </tr>\n",
       "    <tr>\n",
       "      <th>1</th>\n",
       "      <td>2020</td>\n",
       "      <td>salut0506</td>\n",
       "      <td>4</td>\n",
       "      <td>NaN</td>\n",
       "      <td>마약크로플 + 로또딸기요거트 + 미니크로플</td>\n",
       "      <td>NaN</td>\n",
       "      <td>NaN</td>\n",
       "      <td>NaN</td>\n",
       "      <td>NaN</td>\n",
       "      <td>NaN</td>\n",
       "      <td>...</td>\n",
       "      <td>NaN</td>\n",
       "      <td>NaN</td>\n",
       "      <td>NaN</td>\n",
       "      <td>NaN</td>\n",
       "      <td>NaN</td>\n",
       "      <td>NaN</td>\n",
       "      <td>NaN</td>\n",
       "      <td>NaN</td>\n",
       "      <td>NaN</td>\n",
       "      <td>NaN</td>\n",
       "    </tr>\n",
       "    <tr>\n",
       "      <th>2</th>\n",
       "      <td>2020</td>\n",
       "      <td>배미니</td>\n",
       "      <td>5</td>\n",
       "      <td>NaN</td>\n",
       "      <td>녹차 밀크티</td>\n",
       "      <td>쿠키앤크림</td>\n",
       "      <td>마약 크로플</td>\n",
       "      <td>NaN</td>\n",
       "      <td>31346867_200721006886174226_1_b.jpg</td>\n",
       "      <td>NaN</td>\n",
       "      <td>...</td>\n",
       "      <td>NaN</td>\n",
       "      <td>NaN</td>\n",
       "      <td>NaN</td>\n",
       "      <td>NaN</td>\n",
       "      <td>NaN</td>\n",
       "      <td>NaN</td>\n",
       "      <td>NaN</td>\n",
       "      <td>NaN</td>\n",
       "      <td>NaN</td>\n",
       "      <td>NaN</td>\n",
       "    </tr>\n",
       "    <tr>\n",
       "      <th>3</th>\n",
       "      <td>2020</td>\n",
       "      <td>gia0****</td>\n",
       "      <td>5</td>\n",
       "      <td>NaN</td>\n",
       "      <td>마약 크로플</td>\n",
       "      <td>애넘 밀크티</td>\n",
       "      <td>오키나와 스무디</td>\n",
       "      <td>NaN</td>\n",
       "      <td>NaN</td>\n",
       "      <td>NaN</td>\n",
       "      <td>...</td>\n",
       "      <td>NaN</td>\n",
       "      <td>NaN</td>\n",
       "      <td>NaN</td>\n",
       "      <td>NaN</td>\n",
       "      <td>NaN</td>\n",
       "      <td>NaN</td>\n",
       "      <td>NaN</td>\n",
       "      <td>NaN</td>\n",
       "      <td>NaN</td>\n",
       "      <td>NaN</td>\n",
       "    </tr>\n",
       "    <tr>\n",
       "      <th>4</th>\n",
       "      <td>2020</td>\n",
       "      <td>바라</td>\n",
       "      <td>5</td>\n",
       "      <td>NaN</td>\n",
       "      <td>수제 티라미수</td>\n",
       "      <td>징징이스무디</td>\n",
       "      <td>애넘 밀크티</td>\n",
       "      <td>NaN</td>\n",
       "      <td>29157484_190115009764170557_1_b.jpg</td>\n",
       "      <td>29157485_190115009764170557_2_b.jpg</td>\n",
       "      <td>...</td>\n",
       "      <td>NaN</td>\n",
       "      <td>NaN</td>\n",
       "      <td>NaN</td>\n",
       "      <td>NaN</td>\n",
       "      <td>NaN</td>\n",
       "      <td>NaN</td>\n",
       "      <td>NaN</td>\n",
       "      <td>NaN</td>\n",
       "      <td>NaN</td>\n",
       "      <td>NaN</td>\n",
       "    </tr>\n",
       "  </tbody>\n",
       "</table>\n",
       "<p>5 rows × 24 columns</p>\n",
       "</div>"
      ],
      "text/plain": [
       "     날짜        닉네임  별점(1~5) 배달평가(좋다,아쉽다)                    주문메뉴1   주문메뉴2  \\\n",
       "0  2020   ssuw****        5          NaN                   애넘 밀크티     NaN   \n",
       "1  2020  salut0506        4          NaN  마약크로플 + 로또딸기요거트 + 미니크로플     NaN   \n",
       "2  2020        배미니        5          NaN                   녹차 밀크티   쿠키앤크림   \n",
       "3  2020   gia0****        5          NaN                   마약 크로플  애넘 밀크티   \n",
       "4  2020         바라        5          NaN                  수제 티라미수  징징이스무디   \n",
       "\n",
       "      주문메뉴3 주문메뉴4                                  사진1  \\\n",
       "0       NaN   NaN  25306131_190930004223160145_1_b.jpg   \n",
       "1       NaN   NaN                                  NaN   \n",
       "2    마약 크로플   NaN  31346867_200721006886174226_1_b.jpg   \n",
       "3  오키나와 스무디   NaN                                  NaN   \n",
       "4    애넘 밀크티   NaN  29157484_190115009764170557_1_b.jpg   \n",
       "\n",
       "                                   사진2  ... Unnamed: 14  Unnamed: 15  \\\n",
       "0                                  NaN  ...         NaN          NaN   \n",
       "1                                  NaN  ...         NaN          NaN   \n",
       "2                                  NaN  ...         NaN          NaN   \n",
       "3                                  NaN  ...         NaN          NaN   \n",
       "4  29157485_190115009764170557_2_b.jpg  ...         NaN          NaN   \n",
       "\n",
       "   Unnamed: 16  Unnamed: 17  Unnamed: 18  Unnamed: 19  Unnamed: 20  \\\n",
       "0          NaN          NaN          NaN          NaN          NaN   \n",
       "1          NaN          NaN          NaN          NaN          NaN   \n",
       "2          NaN          NaN          NaN          NaN          NaN   \n",
       "3          NaN          NaN          NaN          NaN          NaN   \n",
       "4          NaN          NaN          NaN          NaN          NaN   \n",
       "\n",
       "   Unnamed: 21  Unnamed: 22  Unnamed: 23  \n",
       "0          NaN          NaN          NaN  \n",
       "1          NaN          NaN          NaN  \n",
       "2          NaN          NaN          NaN  \n",
       "3          NaN          NaN          NaN  \n",
       "4          NaN          NaN          NaN  \n",
       "\n",
       "[5 rows x 24 columns]"
      ]
     },
     "execution_count": 39,
     "metadata": {},
     "output_type": "execute_result"
    }
   ],
   "source": [
    "review.head()"
   ]
  },
  {
   "cell_type": "code",
   "execution_count": 3,
   "id": "0aec7dee",
   "metadata": {},
   "outputs": [
    {
     "data": {
      "text/html": [
       "<div>\n",
       "<style scoped>\n",
       "    .dataframe tbody tr th:only-of-type {\n",
       "        vertical-align: middle;\n",
       "    }\n",
       "\n",
       "    .dataframe tbody tr th {\n",
       "        vertical-align: top;\n",
       "    }\n",
       "\n",
       "    .dataframe thead th {\n",
       "        text-align: right;\n",
       "    }\n",
       "</style>\n",
       "<table border=\"1\" class=\"dataframe\">\n",
       "  <thead>\n",
       "    <tr style=\"text-align: right;\">\n",
       "      <th></th>\n",
       "      <th>주문일시</th>\n",
       "      <th>주문번호</th>\n",
       "      <th>매출구분명</th>\n",
       "      <th>결제수단</th>\n",
       "      <th>공급가액</th>\n",
       "      <th>부가세</th>\n",
       "      <th>합계</th>\n",
       "    </tr>\n",
       "  </thead>\n",
       "  <tbody>\n",
       "    <tr>\n",
       "      <th>0</th>\n",
       "      <td>2021-01-01</td>\n",
       "      <td>B0UG00RHPT</td>\n",
       "      <td>기타매출</td>\n",
       "      <td>쿠폰</td>\n",
       "      <td>909 원</td>\n",
       "      <td>91 원</td>\n",
       "      <td>1,000 원</td>\n",
       "    </tr>\n",
       "    <tr>\n",
       "      <th>1</th>\n",
       "      <td>2021-01-01</td>\n",
       "      <td>B0UG00U5GK</td>\n",
       "      <td>기타매출</td>\n",
       "      <td>회원포인트</td>\n",
       "      <td>636 원</td>\n",
       "      <td>64 원</td>\n",
       "      <td>700 원</td>\n",
       "    </tr>\n",
       "    <tr>\n",
       "      <th>2</th>\n",
       "      <td>2021-01-01</td>\n",
       "      <td>B0UG00XD3U</td>\n",
       "      <td>기타매출</td>\n",
       "      <td>쿠폰</td>\n",
       "      <td>909 원</td>\n",
       "      <td>91 원</td>\n",
       "      <td>1,000 원</td>\n",
       "    </tr>\n",
       "    <tr>\n",
       "      <th>3</th>\n",
       "      <td>2021-01-01</td>\n",
       "      <td>B0UG00XD3U</td>\n",
       "      <td>기타매출</td>\n",
       "      <td>회원포인트</td>\n",
       "      <td>273 원</td>\n",
       "      <td>27 원</td>\n",
       "      <td>300 원</td>\n",
       "    </tr>\n",
       "    <tr>\n",
       "      <th>4</th>\n",
       "      <td>2021-01-01</td>\n",
       "      <td>B0UG01BFVX</td>\n",
       "      <td>기타매출</td>\n",
       "      <td>휴대폰</td>\n",
       "      <td>10,636 원</td>\n",
       "      <td>1,064 원</td>\n",
       "      <td>11,700 원</td>\n",
       "    </tr>\n",
       "  </tbody>\n",
       "</table>\n",
       "</div>"
      ],
      "text/plain": [
       "         주문일시        주문번호 매출구분명   결제수단      공급가액      부가세        합계\n",
       "0  2021-01-01  B0UG00RHPT  기타매출     쿠폰     909 원     91 원   1,000 원\n",
       "1  2021-01-01  B0UG00U5GK  기타매출  회원포인트     636 원     64 원     700 원\n",
       "2  2021-01-01  B0UG00XD3U  기타매출     쿠폰     909 원     91 원   1,000 원\n",
       "3  2021-01-01  B0UG00XD3U  기타매출  회원포인트     273 원     27 원     300 원\n",
       "4  2021-01-01  B0UG01BFVX  기타매출    휴대폰  10,636 원  1,064 원  11,700 원"
      ]
     },
     "execution_count": 3,
     "metadata": {},
     "output_type": "execute_result"
    }
   ],
   "source": [
    "sales1 = pd.read_csv(\"E:/Kaggle_Practice/BaeMin/sales-2021-01-01-2021-06-30.csv\")\n",
    "sales1.head()"
   ]
  },
  {
   "cell_type": "code",
   "execution_count": 5,
   "id": "87379e24",
   "metadata": {},
   "outputs": [
    {
     "data": {
      "text/plain": [
       "(1861, 7)"
      ]
     },
     "execution_count": 5,
     "metadata": {},
     "output_type": "execute_result"
    }
   ],
   "source": [
    "sales1.shape"
   ]
  },
  {
   "cell_type": "code",
   "execution_count": 4,
   "id": "382e5211",
   "metadata": {},
   "outputs": [
    {
     "data": {
      "text/html": [
       "<div>\n",
       "<style scoped>\n",
       "    .dataframe tbody tr th:only-of-type {\n",
       "        vertical-align: middle;\n",
       "    }\n",
       "\n",
       "    .dataframe tbody tr th {\n",
       "        vertical-align: top;\n",
       "    }\n",
       "\n",
       "    .dataframe thead th {\n",
       "        text-align: right;\n",
       "    }\n",
       "</style>\n",
       "<table border=\"1\" class=\"dataframe\">\n",
       "  <thead>\n",
       "    <tr style=\"text-align: right;\">\n",
       "      <th></th>\n",
       "      <th>주문일시</th>\n",
       "      <th>주문번호</th>\n",
       "      <th>매출구분명</th>\n",
       "      <th>결제수단</th>\n",
       "      <th>공급가액</th>\n",
       "      <th>부가세</th>\n",
       "      <th>합계</th>\n",
       "    </tr>\n",
       "  </thead>\n",
       "  <tbody>\n",
       "    <tr>\n",
       "      <th>0</th>\n",
       "      <td>2021-06-01</td>\n",
       "      <td>B0YN00RRGV</td>\n",
       "      <td>기타매출</td>\n",
       "      <td>회원포인트</td>\n",
       "      <td>45 원</td>\n",
       "      <td>5 원</td>\n",
       "      <td>50 원</td>\n",
       "    </tr>\n",
       "    <tr>\n",
       "      <th>1</th>\n",
       "      <td>2021-06-01</td>\n",
       "      <td>B0YN00U9DS</td>\n",
       "      <td>기타매출</td>\n",
       "      <td>네이버페이</td>\n",
       "      <td>302 원</td>\n",
       "      <td>30 원</td>\n",
       "      <td>332 원</td>\n",
       "    </tr>\n",
       "    <tr>\n",
       "      <th>2</th>\n",
       "      <td>2021-06-01</td>\n",
       "      <td>B0YN01PR1R</td>\n",
       "      <td>카드매출</td>\n",
       "      <td>신용카드</td>\n",
       "      <td>13,182 원</td>\n",
       "      <td>1,318 원</td>\n",
       "      <td>14,500 원</td>\n",
       "    </tr>\n",
       "    <tr>\n",
       "      <th>3</th>\n",
       "      <td>2021-06-01</td>\n",
       "      <td>B0YN00QY6M</td>\n",
       "      <td>현금매출</td>\n",
       "      <td>네이버페이</td>\n",
       "      <td>14,545 원</td>\n",
       "      <td>1,455 원</td>\n",
       "      <td>16,000 원</td>\n",
       "    </tr>\n",
       "    <tr>\n",
       "      <th>4</th>\n",
       "      <td>2021-06-01</td>\n",
       "      <td>B0YN00RRGV</td>\n",
       "      <td>현금매출</td>\n",
       "      <td>배민페이(계좌이체)</td>\n",
       "      <td>11,318 원</td>\n",
       "      <td>1,132 원</td>\n",
       "      <td>12,450 원</td>\n",
       "    </tr>\n",
       "  </tbody>\n",
       "</table>\n",
       "</div>"
      ],
      "text/plain": [
       "         주문일시        주문번호 매출구분명        결제수단      공급가액      부가세        합계\n",
       "0  2021-06-01  B0YN00RRGV  기타매출       회원포인트      45 원      5 원      50 원\n",
       "1  2021-06-01  B0YN00U9DS  기타매출       네이버페이     302 원     30 원     332 원\n",
       "2  2021-06-01  B0YN01PR1R  카드매출        신용카드  13,182 원  1,318 원  14,500 원\n",
       "3  2021-06-01  B0YN00QY6M  현금매출       네이버페이  14,545 원  1,455 원  16,000 원\n",
       "4  2021-06-01  B0YN00RRGV  현금매출  배민페이(계좌이체)  11,318 원  1,132 원  12,450 원"
      ]
     },
     "execution_count": 4,
     "metadata": {},
     "output_type": "execute_result"
    }
   ],
   "source": [
    "sales2 = pd.read_csv(\"E:/Kaggle_Practice/BaeMin/sales-2021-06-01-2021-11-23.csv\")\n",
    "sales2.head()"
   ]
  },
  {
   "cell_type": "code",
   "execution_count": 7,
   "id": "aaa77bae",
   "metadata": {},
   "outputs": [
    {
     "data": {
      "text/plain": [
       "(1805, 7)"
      ]
     },
     "execution_count": 7,
     "metadata": {},
     "output_type": "execute_result"
    }
   ],
   "source": [
    "sales2.shape"
   ]
  },
  {
   "cell_type": "code",
   "execution_count": 5,
   "id": "c3117e4e",
   "metadata": {},
   "outputs": [
    {
     "data": {
      "text/plain": [
       "(3666, 7)"
      ]
     },
     "execution_count": 5,
     "metadata": {},
     "output_type": "execute_result"
    }
   ],
   "source": [
    "sales = pd.concat([sales1,sales2], ignore_index=True)\n",
    "sales.shape"
   ]
  },
  {
   "cell_type": "code",
   "execution_count": 6,
   "id": "694246fc",
   "metadata": {},
   "outputs": [],
   "source": [
    "menu1 = review2021[['날짜','주문메뉴1']]\n",
    "menu2 = review2021[['날짜','주문메뉴2']]\n",
    "menu3 = review2021[['날짜','주문메뉴3']]\n",
    "menu4 = review2021[['날짜','주문메뉴4']]"
   ]
  },
  {
   "cell_type": "code",
   "execution_count": 7,
   "id": "ffd227bf",
   "metadata": {},
   "outputs": [],
   "source": [
    "menu1 = menu1.dropna()\n",
    "menu2 = menu2.dropna()\n",
    "menu3 = menu3.dropna()\n",
    "menu4 = menu4.dropna()"
   ]
  },
  {
   "cell_type": "code",
   "execution_count": 8,
   "id": "c6dff958",
   "metadata": {},
   "outputs": [],
   "source": [
    "menu1.rename(columns = {'주문메뉴1':'menu'},inplace=True)\n",
    "menu2.rename(columns = {'주문메뉴2':'menu'},inplace=True)\n",
    "menu3.rename(columns = {'주문메뉴3':'menu'},inplace=True)\n",
    "menu4.rename(columns = {'주문메뉴4':'menu'},inplace=True)"
   ]
  },
  {
   "cell_type": "code",
   "execution_count": 9,
   "id": "a6a6df0d",
   "metadata": {},
   "outputs": [
    {
     "data": {
      "text/plain": [
       "(1905, 2)"
      ]
     },
     "execution_count": 9,
     "metadata": {},
     "output_type": "execute_result"
    }
   ],
   "source": [
    "menu = pd.concat([menu1,menu2,menu3,menu4], ignore_index=True)\n",
    "menu.shape"
   ]
  },
  {
   "cell_type": "code",
   "execution_count": 10,
   "id": "4ad5ecdd",
   "metadata": {},
   "outputs": [
    {
     "data": {
      "text/html": [
       "<div>\n",
       "<style scoped>\n",
       "    .dataframe tbody tr th:only-of-type {\n",
       "        vertical-align: middle;\n",
       "    }\n",
       "\n",
       "    .dataframe tbody tr th {\n",
       "        vertical-align: top;\n",
       "    }\n",
       "\n",
       "    .dataframe thead th {\n",
       "        text-align: right;\n",
       "    }\n",
       "</style>\n",
       "<table border=\"1\" class=\"dataframe\">\n",
       "  <thead>\n",
       "    <tr style=\"text-align: right;\">\n",
       "      <th></th>\n",
       "      <th>날짜</th>\n",
       "      <th>menu</th>\n",
       "    </tr>\n",
       "  </thead>\n",
       "  <tbody>\n",
       "    <tr>\n",
       "      <th>0</th>\n",
       "      <td>2021.11</td>\n",
       "      <td>애넘 밀크티</td>\n",
       "    </tr>\n",
       "    <tr>\n",
       "      <th>1</th>\n",
       "      <td>2021.11</td>\n",
       "      <td>마약 크로플</td>\n",
       "    </tr>\n",
       "    <tr>\n",
       "      <th>2</th>\n",
       "      <td>2021.11</td>\n",
       "      <td>민트초코 스무디</td>\n",
       "    </tr>\n",
       "    <tr>\n",
       "      <th>3</th>\n",
       "      <td>2021.11</td>\n",
       "      <td>애넘 밀크티</td>\n",
       "    </tr>\n",
       "    <tr>\n",
       "      <th>4</th>\n",
       "      <td>2021.11</td>\n",
       "      <td>애플시나몬 크로플</td>\n",
       "    </tr>\n",
       "    <tr>\n",
       "      <th>...</th>\n",
       "      <td>...</td>\n",
       "      <td>...</td>\n",
       "    </tr>\n",
       "    <tr>\n",
       "      <th>1900</th>\n",
       "      <td>2021.9</td>\n",
       "      <td>(New)복숭아생크림 크로플</td>\n",
       "    </tr>\n",
       "    <tr>\n",
       "      <th>1901</th>\n",
       "      <td>2021.9</td>\n",
       "      <td>녹차 밀크티</td>\n",
       "    </tr>\n",
       "    <tr>\n",
       "      <th>1902</th>\n",
       "      <td>2021.9</td>\n",
       "      <td>애플시나몬 크로플</td>\n",
       "    </tr>\n",
       "    <tr>\n",
       "      <th>1903</th>\n",
       "      <td>2021.8</td>\n",
       "      <td>피스타치오 스무디</td>\n",
       "    </tr>\n",
       "    <tr>\n",
       "      <th>1904</th>\n",
       "      <td>2021.7</td>\n",
       "      <td>로또딸기요거트스무디</td>\n",
       "    </tr>\n",
       "  </tbody>\n",
       "</table>\n",
       "<p>1905 rows × 2 columns</p>\n",
       "</div>"
      ],
      "text/plain": [
       "           날짜             menu\n",
       "0     2021.11           애넘 밀크티\n",
       "1     2021.11           마약 크로플\n",
       "2     2021.11         민트초코 스무디\n",
       "3     2021.11           애넘 밀크티\n",
       "4     2021.11        애플시나몬 크로플\n",
       "...       ...              ...\n",
       "1900   2021.9  (New)복숭아생크림 크로플\n",
       "1901   2021.9           녹차 밀크티\n",
       "1902   2021.9        애플시나몬 크로플\n",
       "1903   2021.8        피스타치오 스무디\n",
       "1904   2021.7       로또딸기요거트스무디\n",
       "\n",
       "[1905 rows x 2 columns]"
      ]
     },
     "execution_count": 10,
     "metadata": {},
     "output_type": "execute_result"
    }
   ],
   "source": [
    "menu"
   ]
  },
  {
   "cell_type": "code",
   "execution_count": 15,
   "id": "78a426aa",
   "metadata": {},
   "outputs": [],
   "source": [
    "# menu=menu.to_frame()\n",
    "# menu['menu']=menu\n",
    "# menu.drop([0], axis=1, inplace=True)"
   ]
  },
  {
   "cell_type": "markdown",
   "id": "06707cdf",
   "metadata": {},
   "source": [
    "## EDA"
   ]
  },
  {
   "cell_type": "markdown",
   "id": "a0d8ed08",
   "metadata": {},
   "source": [
    "### 1.제일 많이 팔린 메뉴는?"
   ]
  },
  {
   "cell_type": "code",
   "execution_count": 21,
   "id": "4aa7028c",
   "metadata": {},
   "outputs": [
    {
     "data": {
      "image/png": "[encoded data removed]",
      "text/plain": [
       "<Figure size 576x432 with 1 Axes>"
      ]
     },
     "metadata": {
      "needs_background": "light"
     },
     "output_type": "display_data"
    }
   ],
   "source": [
    "import seaborn as sns\n",
    "import matplotlib.pyplot as plt\n",
    "from matplotlib import font_manager,rc\n",
    "\n",
    "font_path = \"C:/Users/katenam/AppData/Local/Microsoft/Windows/Fonts/malgun.ttf\"\n",
    "font = font_manager.FontProperties(fname=font_path).get_name()\n",
    "rc('font', family=font)\n",
    "\n",
    "plt.figure(figsize=(8,6))\n",
    "sns.countplot(y = menu['menu'], data = menu, order = menu['menu'].value_counts().head(10).index)\n",
    "plt.title('Most famouse menu',pad=20,fontsize = 20)\n",
    "plt.show()"
   ]
  },
  {
   "cell_type": "markdown",
   "id": "700908e5",
   "metadata": {},
   "source": [
    "- #### **마약 크로플, 애넘 밀크티, 브라운슈가 밀크티** 가 잘 팔리는 메뉴이다. "
   ]
  },
  {
   "cell_type": "markdown",
   "id": "4b6537fd",
   "metadata": {},
   "source": [
    "### 2.제일 많은 별점은?"
   ]
  },
  {
   "cell_type": "code",
   "execution_count": 22,
   "id": "9c3eec82",
   "metadata": {},
   "outputs": [
    {
     "data": {
      "text/plain": [
       "<AxesSubplot:xlabel='별점(1~5)', ylabel='Density'>"
      ]
     },
     "execution_count": 22,
     "metadata": {},
     "output_type": "execute_result"
    },
    {
     "data": {
      "image/png": "[encoded data removed]",
      "text/plain": [
       "<Figure size 576x432 with 1 Axes>"
      ]
     },
     "metadata": {
      "needs_background": "light"
     },
     "output_type": "display_data"
    }
   ],
   "source": [
    "plt.figure(figsize=(8,6))\n",
    "sns.distplot(review2021['별점(1~5)'], kde=True)\n"
   ]
  },
  {
   "cell_type": "code",
   "execution_count": 23,
   "id": "4441c16e",
   "metadata": {},
   "outputs": [
    {
     "data": {
      "text/plain": [
       "5    767\n",
       "4     16\n",
       "3      6\n",
       "1      5\n",
       "2      5\n",
       "Name: 별점(1~5), dtype: int64"
      ]
     },
     "execution_count": 23,
     "metadata": {},
     "output_type": "execute_result"
    }
   ],
   "source": [
    "review2021['별점(1~5)'].value_counts()"
   ]
  },
  {
   "cell_type": "markdown",
   "id": "fd2a6881",
   "metadata": {},
   "source": [
    "- #### 거의 별점은 5이다"
   ]
  },
  {
   "cell_type": "markdown",
   "id": "4462e966",
   "metadata": {},
   "source": [
    "### 3.제일 리뷰가 많은 월(month)은?"
   ]
  },
  {
   "cell_type": "code",
   "execution_count": 24,
   "id": "0e5e2512",
   "metadata": {},
   "outputs": [
    {
     "data": {
      "image/png": "[encoded data removed]",
      "text/plain": [
       "<Figure size 576x432 with 1 Axes>"
      ]
     },
     "metadata": {
      "needs_background": "light"
     },
     "output_type": "display_data"
    }
   ],
   "source": [
    "font_path = \"C:/Users/katenam/AppData/Local/Microsoft/Windows/Fonts/malgun.ttf\"\n",
    "font = font_manager.FontProperties(fname=font_path).get_name()\n",
    "rc('font', family=font)\n",
    "\n",
    "plt.figure(figsize=(8,6))\n",
    "sns.countplot(y = review2021['날짜'], data = review2021, order = review2021['날짜'].value_counts().head(10).index)\n",
    "plt.title('월별 주문',pad=20,fontsize = 20)\n",
    "plt.show()"
   ]
  },
  {
   "cell_type": "markdown",
   "id": "d3105fd4",
   "metadata": {},
   "source": [
    "- #### 8월, 7월, 여름에 리뷰가 제일 많다.\n",
    "- #### 잘 팔리는 메뉴가 2,3,4위가 음료 인걸로봐서 더운날 시원한 음료를 찾는 고객들이 목마름을 해결하고 기분이 좋아 리뷰를 많이 쓰나보다."
   ]
  },
  {
   "cell_type": "markdown",
   "id": "edab60a8",
   "metadata": {},
   "source": [
    "### 4.배달평가는?"
   ]
  },
  {
   "cell_type": "code",
   "execution_count": 25,
   "id": "00173d86",
   "metadata": {},
   "outputs": [
    {
     "data": {
      "image/png": "[encoded data removed]",
      "text/plain": [
       "<Figure size 576x432 with 1 Axes>"
      ]
     },
     "metadata": {
      "needs_background": "light"
     },
     "output_type": "display_data"
    }
   ],
   "source": [
    "font_path = \"C:/Users/katenam/AppData/Local/Microsoft/Windows/Fonts/malgun.ttf\"\n",
    "font = font_manager.FontProperties(fname=font_path).get_name()\n",
    "rc('font', family=font)\n",
    "\n",
    "plt.figure(figsize=(8,6))\n",
    "sns.countplot(y = review2021['배달평가(좋다,아쉽다)'], data = review2021, order = review2021['배달평가(좋다,아쉽다)'].value_counts().head(10).index)\n",
    "plt.title('배달 평가',pad=20,fontsize = 20)\n",
    "plt.show()"
   ]
  },
  {
   "cell_type": "code",
   "execution_count": 26,
   "id": "5ac65fd8",
   "metadata": {
    "scrolled": true
   },
   "outputs": [
    {
     "data": {
      "text/plain": [
       "좋아요            264\n",
       "아쉬워요             8\n",
       "매우 늦게 도착         2\n",
       "아쉬워요,매우늦게도착      2\n",
       "아쉬워요,불친절         1\n",
       "Name: 배달평가(좋다,아쉽다), dtype: int64"
      ]
     },
     "execution_count": 26,
     "metadata": {},
     "output_type": "execute_result"
    }
   ],
   "source": [
    "review2021['배달평가(좋다,아쉽다)'].value_counts()"
   ]
  },
  {
   "cell_type": "markdown",
   "id": "c6e812f2",
   "metadata": {},
   "source": [
    "- #### 고객들의 배달 평가는 '좋아요'가 많다."
   ]
  },
  {
   "cell_type": "markdown",
   "id": "5a7da1c9",
   "metadata": {},
   "source": [
    "### 5. 월별, 주별, 일별 주문 비교"
   ]
  },
  {
   "cell_type": "code",
   "execution_count": 80,
   "id": "7f6523ba",
   "metadata": {},
   "outputs": [
    {
     "data": {
      "image/png": "[encoded data removed]",
      "text/plain": [
       "<Figure size 576x720 with 1 Axes>"
      ]
     },
     "metadata": {
      "needs_background": "light"
     },
     "output_type": "display_data"
    }
   ],
   "source": [
    "font_path = \"C:/Users/katenam/AppData/Local/Microsoft/Windows/Fonts/malgun.ttf\"\n",
    "font = font_manager.FontProperties(fname=font_path).get_name()\n",
    "rc('font', family=font)\n",
    "\n",
    "plt.figure(figsize=(8,10))\n",
    "sns.countplot(y = sales['주문일시'], data = sales, order = sales['주문일시'].value_counts().head(20).index)\n",
    "plt.title('일별 주문',pad=20,fontsize = 20)\n",
    "plt.show()"
   ]
  },
  {
   "cell_type": "code",
   "execution_count": 11,
   "id": "3ab6405f",
   "metadata": {},
   "outputs": [],
   "source": [
    "sales['주문일시'] = pd.to_datetime(sales['주문일시'], format='%Y-%m-%d')\n",
    "sales['YearMonth'] = sales['주문일시'].dt.strftime(\"%Y-%m\")\n",
    "sales['Week']=sales['주문일시'].dt.strftime(\"%W\") # 00부터 시작해서 52까지 (2021년은 52까지)"
   ]
  },
  {
   "cell_type": "code",
   "execution_count": 29,
   "id": "81ed0bdd",
   "metadata": {},
   "outputs": [
    {
     "name": "stdout",
     "output_type": "stream",
     "text": [
      "<class 'pandas.core.frame.DataFrame'>\n",
      "RangeIndex: 3666 entries, 0 to 3665\n",
      "Data columns (total 9 columns):\n",
      " #   Column     Non-Null Count  Dtype         \n",
      "---  ------     --------------  -----         \n",
      " 0   주문일시       3666 non-null   datetime64[ns]\n",
      " 1   주문번호       3666 non-null   object        \n",
      " 2   매출구분명      3666 non-null   object        \n",
      " 3   결제수단       3666 non-null   object        \n",
      " 4   공급가액       3666 non-null   object        \n",
      " 5   부가세        3666 non-null   object        \n",
      " 6   합계         3666 non-null   object        \n",
      " 7   YearMonth  3666 non-null   object        \n",
      " 8   Week       3666 non-null   object        \n",
      "dtypes: datetime64[ns](1), object(8)\n",
      "memory usage: 257.9+ KB\n"
     ]
    }
   ],
   "source": [
    "sales.info()"
   ]
  },
  {
   "cell_type": "code",
   "execution_count": 30,
   "id": "a0cbc706",
   "metadata": {},
   "outputs": [
    {
     "data": {
      "image/png": "[encoded data removed]",
      "text/plain": [
       "<Figure size 576x576 with 1 Axes>"
      ]
     },
     "metadata": {
      "needs_background": "light"
     },
     "output_type": "display_data"
    }
   ],
   "source": [
    "font_path = \"C:/Users/katenam/AppData/Local/Microsoft/Windows/Fonts/malgun.ttf\"\n",
    "font = font_manager.FontProperties(fname=font_path).get_name()\n",
    "rc('font', family=font)\n",
    "\n",
    "plt.figure(figsize=(8,8))\n",
    "sns.countplot(y = sales['YearMonth'], data = sales, order = sales['YearMonth'].value_counts().head(20).index)\n",
    "plt.title('월별 주문',pad=20,fontsize = 20)\n",
    "plt.show()"
   ]
  },
  {
   "cell_type": "markdown",
   "id": "45928448",
   "metadata": {},
   "source": [
    "#### 월별 주문"
   ]
  },
  {
   "cell_type": "code",
   "execution_count": 31,
   "id": "4d767443",
   "metadata": {},
   "outputs": [
    {
     "data": {
      "text/plain": [
       "[<matplotlib.lines.Line2D at 0x1cf519420a0>,\n",
       " <matplotlib.lines.Line2D at 0x1cf51942040>,\n",
       " <matplotlib.lines.Line2D at 0x1cf519421f0>,\n",
       " <matplotlib.lines.Line2D at 0x1cf51942310>,\n",
       " <matplotlib.lines.Line2D at 0x1cf51942430>,\n",
       " <matplotlib.lines.Line2D at 0x1cf51942550>,\n",
       " <matplotlib.lines.Line2D at 0x1cf51942670>,\n",
       " <matplotlib.lines.Line2D at 0x1cf51942790>]"
      ]
     },
     "execution_count": 31,
     "metadata": {},
     "output_type": "execute_result"
    },
    {
     "data": {
      "image/png": "[encoded data removed]",
      "text/plain": [
       "<Figure size 720x432 with 1 Axes>"
      ]
     },
     "metadata": {
      "needs_background": "light"
     },
     "output_type": "display_data"
    }
   ],
   "source": [
    "graph_data =sales.groupby('YearMonth').count()\n",
    "\n",
    "\n",
    "plt.figure(figsize = (10,6))\n",
    "plt.plot(graph_data)"
   ]
  },
  {
   "cell_type": "markdown",
   "id": "86e2d326",
   "metadata": {},
   "source": [
    "#### 주별 주문"
   ]
  },
  {
   "cell_type": "code",
   "execution_count": 32,
   "id": "999110d6",
   "metadata": {},
   "outputs": [
    {
     "data": {
      "text/plain": [
       "[<matplotlib.lines.Line2D at 0x1cf519bbac0>,\n",
       " <matplotlib.lines.Line2D at 0x1cf519bba60>,\n",
       " <matplotlib.lines.Line2D at 0x1cf519bbbe0>,\n",
       " <matplotlib.lines.Line2D at 0x1cf519bbd00>,\n",
       " <matplotlib.lines.Line2D at 0x1cf519bbe20>,\n",
       " <matplotlib.lines.Line2D at 0x1cf519bbf40>,\n",
       " <matplotlib.lines.Line2D at 0x1cf519c90a0>,\n",
       " <matplotlib.lines.Line2D at 0x1cf519c91c0>]"
      ]
     },
     "execution_count": 32,
     "metadata": {},
     "output_type": "execute_result"
    },
    {
     "data": {
      "image/png": "[encoded data removed]",
      "text/plain": [
       "<Figure size 720x432 with 1 Axes>"
      ]
     },
     "metadata": {
      "needs_background": "light"
     },
     "output_type": "display_data"
    }
   ],
   "source": [
    "graph_data =sales.groupby('Week').count()\n",
    "\n",
    "\n",
    "plt.figure(figsize = (10,6))\n",
    "plt.plot(graph_data)"
   ]
  },
  {
   "cell_type": "markdown",
   "id": "1f6a64e8",
   "metadata": {},
   "source": [
    "#### 일별 주문"
   ]
  },
  {
   "cell_type": "code",
   "execution_count": 45,
   "id": "e9573a9d",
   "metadata": {},
   "outputs": [
    {
     "data": {
      "text/plain": [
       "[<matplotlib.lines.Line2D at 0x1cf560b2370>,\n",
       " <matplotlib.lines.Line2D at 0x1cf560e1520>,\n",
       " <matplotlib.lines.Line2D at 0x1cf560e13d0>,\n",
       " <matplotlib.lines.Line2D at 0x1cf560e15b0>,\n",
       " <matplotlib.lines.Line2D at 0x1cf560e16d0>,\n",
       " <matplotlib.lines.Line2D at 0x1cf560e17f0>,\n",
       " <matplotlib.lines.Line2D at 0x1cf560e1910>,\n",
       " <matplotlib.lines.Line2D at 0x1cf560e1a30>,\n",
       " <matplotlib.lines.Line2D at 0x1cf560e1b50>]"
      ]
     },
     "execution_count": 45,
     "metadata": {},
     "output_type": "execute_result"
    },
    {
     "data": {
      "image/png": "[encoded data removed]",
      "text/plain": [
       "<Figure size 1152x432 with 1 Axes>"
      ]
     },
     "metadata": {
      "needs_background": "light"
     },
     "output_type": "display_data"
    }
   ],
   "source": [
    "#graph_data =sales.groupby('주문일시').count()\n",
    "\n",
    "\n",
    "plt.figure(figsize = (16,6))\n",
    "plt.plot(sales.groupby('주문일시').count())"
   ]
  },
  {
   "cell_type": "markdown",
   "id": "8953321f",
   "metadata": {},
   "source": [
    "### 6. 주문량이 많았던 1월과 6월에 인기 메뉴는? (sales 데이터에는 메뉴 정보가 없으므로 review 데이터로 확인)"
   ]
  },
  {
   "cell_type": "code",
   "execution_count": 12,
   "id": "ea61cec3",
   "metadata": {},
   "outputs": [
    {
     "data": {
      "text/plain": [
       "마약 크로플                     54\n",
       "애넘 밀크티                     32\n",
       "흑당 크로플                     15\n",
       "마약크로플 + 로또딸기요거트 + 미니크로플    15\n",
       "로또딸기요거트스무디                 13\n",
       "열심히 불판에서 크로플굽는 사장님을 위한     13\n",
       "브라운슈가 밀크티                  11\n",
       "흑당크로플 + 애넘밀크티 + 미니크로플       8\n",
       "아메리카노                       7\n",
       "미니크로플                       6\n",
       "수제 티라미수                     6\n",
       "카페라떼                        5\n",
       "쿠키앤크림                       4\n",
       "단풍딸기쥬스                      3\n",
       "오키나와 스무디                    3\n",
       "바닐라 라떼                      2\n",
       "쪼코릿 밀크티                     2\n",
       "제주홍귤쥬스                      1\n",
       "커피 밀크티                      1\n",
       "징징이스무디                      1\n",
       "녹차 밀크티                      1\n",
       "민트초코                        1\n",
       "돌체라떼                        1\n",
       "Name: menu, dtype: int64"
      ]
     },
     "execution_count": 12,
     "metadata": {},
     "output_type": "execute_result"
    }
   ],
   "source": [
    "menu[menu['날짜']=='2021.1']['menu'].value_counts()"
   ]
  },
  {
   "cell_type": "code",
   "execution_count": 13,
   "id": "86094d73",
   "metadata": {},
   "outputs": [
    {
     "data": {
      "text/plain": [
       "마약 크로플                        26\n",
       "까망애플수박주스                      20\n",
       "애넘 밀크티                        17\n",
       "브라운슈가 밀크티                     12\n",
       "미니크로플                         11\n",
       "아메리카노                          7\n",
       "까망애플수박라떼                       7\n",
       "오키나와 스무디                       6\n",
       "(NEW) 잠봉뵈르 크로샌드                5\n",
       "흑당 크로플                         3\n",
       "로또딸기요거트스무디                     3\n",
       "마약크로플 + 로또딸기요거트 + 미니크로플        3\n",
       "커피 밀크티                         3\n",
       "카페라떼                           2\n",
       "단풍딸기쥬스                         2\n",
       "수제 티라미수                        2\n",
       "(NEW) 햄치즈 크로샌드                 2\n",
       "쪼코릿 밀크티                        2\n",
       "(New)생딸기생크림 크로플                1\n",
       "돌체라떼                           1\n",
       "자몽오렌지에이드                       1\n",
       "까망애플수박주스 + 수제 티라미수 + 마약크로플     1\n",
       "쿠키앤크림                          1\n",
       "Name: menu, dtype: int64"
      ]
     },
     "execution_count": 13,
     "metadata": {},
     "output_type": "execute_result"
    }
   ],
   "source": [
    "menu[menu['날짜']=='2021.6']['menu'].value_counts()"
   ]
  },
  {
   "cell_type": "markdown",
   "id": "7606285e",
   "metadata": {},
   "source": [
    "- #### 제일 주문이 많았던 1월에 잘 팔린 메뉴는 크로플이다.\n",
    "- #### 그 다음으로 주문이 많았던 6월은 크로플과 함께 여름이라 시원한 음료가 많이 팔렸다."
   ]
  },
  {
   "cell_type": "markdown",
   "id": "c3312309",
   "metadata": {},
   "source": [
    "### 7. 요일별 주문 비교"
   ]
  },
  {
   "cell_type": "code",
   "execution_count": 34,
   "id": "8a735457",
   "metadata": {},
   "outputs": [],
   "source": [
    "sales['Weekday'] = sales['주문일시'].dt.weekday"
   ]
  },
  {
   "cell_type": "code",
   "execution_count": 38,
   "id": "80b15c77",
   "metadata": {},
   "outputs": [
    {
     "data": {
      "image/png": "[encoded data removed]",
      "text/plain": [
       "<Figure size 576x432 with 1 Axes>"
      ]
     },
     "metadata": {
      "needs_background": "light"
     },
     "output_type": "display_data"
    }
   ],
   "source": [
    "font_path = \"C:/Users/katenam/AppData/Local/Microsoft/Windows/Fonts/malgun.ttf\"\n",
    "font = font_manager.FontProperties(fname=font_path).get_name()\n",
    "rc('font', family=font)\n",
    "\n",
    "plt.figure(figsize=(8,6))\n",
    "sns.countplot(y = sales['Weekday'], data = sales, order = sales['Weekday'].value_counts().head(20).index)\n",
    "plt.title('요일별 주문',pad=20,fontsize = 20)\n",
    "plt.show()"
   ]
  },
  {
   "cell_type": "markdown",
   "id": "be4ea128",
   "metadata": {},
   "source": [
    "- #### 0: 월요일~ 6: 일요일\n",
    "- #### 5 (토요일), 6 (일요일) 이 제일 많은것으로 보아 주말에 주문이 제일 많음\n",
    "- #### 주문이 제일 없는 요일은 월요일"
   ]
  },
  {
   "cell_type": "markdown",
   "id": "4a126077",
   "metadata": {},
   "source": [
    "### 8.고객들이 제일 많이 이용한 결제수단은?"
   ]
  },
  {
   "cell_type": "code",
   "execution_count": 40,
   "id": "592eab0a",
   "metadata": {},
   "outputs": [
    {
     "data": {
      "image/png": "[encoded data removed]",
      "text/plain": [
       "<Figure size 576x576 with 1 Axes>"
      ]
     },
     "metadata": {
      "needs_background": "light"
     },
     "output_type": "display_data"
    }
   ],
   "source": [
    "font_path = \"C:/Users/katenam/AppData/Local/Microsoft/Windows/Fonts/malgun.ttf\"\n",
    "font = font_manager.FontProperties(fname=font_path).get_name()\n",
    "rc('font', family=font)\n",
    "\n",
    "plt.figure(figsize=(8,8))\n",
    "sns.countplot(y = sales['결제수단'], data = sales, order = sales['결제수단'].value_counts().head(20).index)\n",
    "plt.title('결제수단 비교',pad=20,fontsize = 20)\n",
    "plt.show()"
   ]
  },
  {
   "cell_type": "markdown",
   "id": "c0b38ecc",
   "metadata": {},
   "source": [
    "### 9. 결제수단별 매출 비교"
   ]
  },
  {
   "cell_type": "code",
   "execution_count": 103,
   "id": "76a842d5",
   "metadata": {},
   "outputs": [
    {
     "name": "stdout",
     "output_type": "stream",
     "text": [
      "<class 'pandas.core.frame.DataFrame'>\n",
      "RangeIndex: 3666 entries, 0 to 3665\n",
      "Data columns (total 10 columns):\n",
      " #   Column     Non-Null Count  Dtype         \n",
      "---  ------     --------------  -----         \n",
      " 0   주문일시       3666 non-null   datetime64[ns]\n",
      " 1   주문번호       3666 non-null   object        \n",
      " 2   매출구분명      3666 non-null   object        \n",
      " 3   결제수단       3666 non-null   object        \n",
      " 4   공급가액       3666 non-null   object        \n",
      " 5   부가세        3666 non-null   object        \n",
      " 6   합계         3666 non-null   object        \n",
      " 7   YearMonth  3666 non-null   object        \n",
      " 8   Week       3666 non-null   object        \n",
      " 9   weekday    3666 non-null   int64         \n",
      "dtypes: datetime64[ns](1), int64(1), object(8)\n",
      "memory usage: 286.5+ KB\n"
     ]
    }
   ],
   "source": [
    "sales.info()"
   ]
  },
  {
   "cell_type": "code",
   "execution_count": null,
   "id": "00caa41a",
   "metadata": {},
   "outputs": [],
   "source": [
    "#### object형인 '합계' 컬럼을 float형으로 변환\n",
    "#### 그 전에 먼저 '원'하고 ',' 제거후 변환"
   ]
  },
  {
   "cell_type": "code",
   "execution_count": 18,
   "id": "53f7561f",
   "metadata": {},
   "outputs": [],
   "source": [
    "sales['합계'] = sales['합계'].str.replace('원', '')#.astype('float')"
   ]
  },
  {
   "cell_type": "code",
   "execution_count": 19,
   "id": "e44ecef2",
   "metadata": {},
   "outputs": [],
   "source": [
    "sales['합계'] = sales['합계'].str.replace(',', '').astype('float')"
   ]
  },
  {
   "cell_type": "code",
   "execution_count": 107,
   "id": "b9c31a51",
   "metadata": {},
   "outputs": [
    {
     "name": "stdout",
     "output_type": "stream",
     "text": [
      "<class 'pandas.core.frame.DataFrame'>\n",
      "RangeIndex: 3666 entries, 0 to 3665\n",
      "Data columns (total 10 columns):\n",
      " #   Column     Non-Null Count  Dtype         \n",
      "---  ------     --------------  -----         \n",
      " 0   주문일시       3666 non-null   datetime64[ns]\n",
      " 1   주문번호       3666 non-null   object        \n",
      " 2   매출구분명      3666 non-null   object        \n",
      " 3   결제수단       3666 non-null   object        \n",
      " 4   공급가액       3666 non-null   object        \n",
      " 5   부가세        3666 non-null   object        \n",
      " 6   합계         3666 non-null   float64       \n",
      " 7   YearMonth  3666 non-null   object        \n",
      " 8   Week       3666 non-null   object        \n",
      " 9   weekday    3666 non-null   int64         \n",
      "dtypes: datetime64[ns](1), float64(1), int64(1), object(7)\n",
      "memory usage: 286.5+ KB\n"
     ]
    }
   ],
   "source": [
    "sales.info()"
   ]
  },
  {
   "cell_type": "code",
   "execution_count": 49,
   "id": "40d85634",
   "metadata": {},
   "outputs": [
    {
     "data": {
      "text/plain": [
       "<AxesSubplot:xlabel='결제수단'>"
      ]
     },
     "execution_count": 49,
     "metadata": {},
     "output_type": "execute_result"
    },
    {
     "data": {
      "image/png": "[encoded data removed]",
      "text/plain": [
       "<Figure size 1080x576 with 1 Axes>"
      ]
     },
     "metadata": {
      "needs_background": "light"
     },
     "output_type": "display_data"
    }
   ],
   "source": [
    "payment = sales.groupby('결제수단')['합계'].sum().sort_values(ascending=False).plot(kind='bar',\n",
    "                                    figsize=(15,8))\n",
    "plt.xticks(fontsize = 12,rotation=45)\n",
    "payment"
   ]
  },
  {
   "cell_type": "code",
   "execution_count": 50,
   "id": "42e7c2b3",
   "metadata": {},
   "outputs": [
    {
     "data": {
      "text/html": [
       "<div>\n",
       "<style scoped>\n",
       "    .dataframe tbody tr th:only-of-type {\n",
       "        vertical-align: middle;\n",
       "    }\n",
       "\n",
       "    .dataframe tbody tr th {\n",
       "        vertical-align: top;\n",
       "    }\n",
       "\n",
       "    .dataframe thead th {\n",
       "        text-align: right;\n",
       "    }\n",
       "</style>\n",
       "<table border=\"1\" class=\"dataframe\">\n",
       "  <thead>\n",
       "    <tr style=\"text-align: right;\">\n",
       "      <th></th>\n",
       "      <th>주문일시</th>\n",
       "      <th>주문번호</th>\n",
       "      <th>매출구분명</th>\n",
       "      <th>결제수단</th>\n",
       "      <th>공급가액</th>\n",
       "      <th>부가세</th>\n",
       "      <th>합계</th>\n",
       "      <th>YearMonth</th>\n",
       "      <th>Week</th>\n",
       "      <th>Weekday</th>\n",
       "    </tr>\n",
       "  </thead>\n",
       "  <tbody>\n",
       "    <tr>\n",
       "      <th>0</th>\n",
       "      <td>2021-01-01</td>\n",
       "      <td>B0UG00RHPT</td>\n",
       "      <td>기타매출</td>\n",
       "      <td>쿠폰</td>\n",
       "      <td>909 원</td>\n",
       "      <td>91 원</td>\n",
       "      <td>1000.0</td>\n",
       "      <td>2021-01</td>\n",
       "      <td>00</td>\n",
       "      <td>4</td>\n",
       "    </tr>\n",
       "    <tr>\n",
       "      <th>1</th>\n",
       "      <td>2021-01-01</td>\n",
       "      <td>B0UG00U5GK</td>\n",
       "      <td>기타매출</td>\n",
       "      <td>회원포인트</td>\n",
       "      <td>636 원</td>\n",
       "      <td>64 원</td>\n",
       "      <td>700.0</td>\n",
       "      <td>2021-01</td>\n",
       "      <td>00</td>\n",
       "      <td>4</td>\n",
       "    </tr>\n",
       "    <tr>\n",
       "      <th>2</th>\n",
       "      <td>2021-01-01</td>\n",
       "      <td>B0UG00XD3U</td>\n",
       "      <td>기타매출</td>\n",
       "      <td>쿠폰</td>\n",
       "      <td>909 원</td>\n",
       "      <td>91 원</td>\n",
       "      <td>1000.0</td>\n",
       "      <td>2021-01</td>\n",
       "      <td>00</td>\n",
       "      <td>4</td>\n",
       "    </tr>\n",
       "    <tr>\n",
       "      <th>3</th>\n",
       "      <td>2021-01-01</td>\n",
       "      <td>B0UG00XD3U</td>\n",
       "      <td>기타매출</td>\n",
       "      <td>회원포인트</td>\n",
       "      <td>273 원</td>\n",
       "      <td>27 원</td>\n",
       "      <td>300.0</td>\n",
       "      <td>2021-01</td>\n",
       "      <td>00</td>\n",
       "      <td>4</td>\n",
       "    </tr>\n",
       "    <tr>\n",
       "      <th>4</th>\n",
       "      <td>2021-01-01</td>\n",
       "      <td>B0UG01BFVX</td>\n",
       "      <td>기타매출</td>\n",
       "      <td>휴대폰</td>\n",
       "      <td>10,636 원</td>\n",
       "      <td>1,064 원</td>\n",
       "      <td>11700.0</td>\n",
       "      <td>2021-01</td>\n",
       "      <td>00</td>\n",
       "      <td>4</td>\n",
       "    </tr>\n",
       "  </tbody>\n",
       "</table>\n",
       "</div>"
      ],
      "text/plain": [
       "        주문일시        주문번호 매출구분명   결제수단      공급가액      부가세       합계 YearMonth  \\\n",
       "0 2021-01-01  B0UG00RHPT  기타매출     쿠폰     909 원     91 원   1000.0   2021-01   \n",
       "1 2021-01-01  B0UG00U5GK  기타매출  회원포인트     636 원     64 원    700.0   2021-01   \n",
       "2 2021-01-01  B0UG00XD3U  기타매출     쿠폰     909 원     91 원   1000.0   2021-01   \n",
       "3 2021-01-01  B0UG00XD3U  기타매출  회원포인트     273 원     27 원    300.0   2021-01   \n",
       "4 2021-01-01  B0UG01BFVX  기타매출    휴대폰  10,636 원  1,064 원  11700.0   2021-01   \n",
       "\n",
       "  Week  Weekday  \n",
       "0   00        4  \n",
       "1   00        4  \n",
       "2   00        4  \n",
       "3   00        4  \n",
       "4   00        4  "
      ]
     },
     "execution_count": 50,
     "metadata": {},
     "output_type": "execute_result"
    }
   ],
   "source": [
    "sales.head()"
   ]
  },
  {
   "cell_type": "code",
   "execution_count": 52,
   "id": "4e55c382",
   "metadata": {},
   "outputs": [
    {
     "data": {
      "text/plain": [
       "카드매출    1944\n",
       "현금매출     973\n",
       "기타매출     749\n",
       "Name: 매출구분명, dtype: int64"
      ]
     },
     "execution_count": 52,
     "metadata": {},
     "output_type": "execute_result"
    }
   ],
   "source": [
    "sales['매출구분명'].value_counts()"
   ]
  },
  {
   "cell_type": "markdown",
   "id": "fe057228",
   "metadata": {},
   "source": [
    "### 10.쿠폰을 많이 주는 요일이 있지 않았을까?"
   ]
  },
  {
   "cell_type": "code",
   "execution_count": 53,
   "id": "b73a2490",
   "metadata": {},
   "outputs": [
    {
     "data": {
      "text/plain": [
       "5    61\n",
       "6    58\n",
       "4    57\n",
       "2    41\n",
       "3    35\n",
       "1    34\n",
       "0    28\n",
       "Name: Weekday, dtype: int64"
      ]
     },
     "execution_count": 53,
     "metadata": {},
     "output_type": "execute_result"
    }
   ],
   "source": [
    "sales[sales['결제수단']=='쿠폰']['Weekday'].value_counts()"
   ]
  },
  {
   "cell_type": "code",
   "execution_count": null,
   "id": "16e34fac",
   "metadata": {},
   "outputs": [],
   "source": [
    "- #### 쿠폰과 요일에는 아무런 관계가 없음"
   ]
  },
  {
   "cell_type": "code",
   "execution_count": 54,
   "id": "f43093e8",
   "metadata": {},
   "outputs": [
    {
     "data": {
      "text/plain": [
       "6    91\n",
       "5    90\n",
       "2    82\n",
       "4    68\n",
       "1    68\n",
       "3    50\n",
       "0    44\n",
       "Name: Weekday, dtype: int64"
      ]
     },
     "execution_count": 54,
     "metadata": {},
     "output_type": "execute_result"
    }
   ],
   "source": [
    "sales[sales['결제수단']=='네이버페이']['Weekday'].value_counts()"
   ]
  },
  {
   "cell_type": "code",
   "execution_count": 56,
   "id": "5afe70c6",
   "metadata": {},
   "outputs": [
    {
     "data": {
      "text/plain": [
       "5    33\n",
       "4    26\n",
       "6    24\n",
       "1    23\n",
       "2    18\n",
       "0    16\n",
       "3    13\n",
       "Name: Weekday, dtype: int64"
      ]
     },
     "execution_count": 56,
     "metadata": {},
     "output_type": "execute_result"
    }
   ],
   "source": [
    "sales[sales['결제수단']=='회원포인트']['Weekday'].value_counts()"
   ]
  },
  {
   "cell_type": "code",
   "execution_count": 57,
   "id": "923941ef",
   "metadata": {},
   "outputs": [
    {
     "data": {
      "text/plain": [
       "4    26\n",
       "5    25\n",
       "6    25\n",
       "0    18\n",
       "1    17\n",
       "2    16\n",
       "3    15\n",
       "Name: Weekday, dtype: int64"
      ]
     },
     "execution_count": 57,
     "metadata": {},
     "output_type": "execute_result"
    }
   ],
   "source": [
    "sales[sales['결제수단']=='휴대폰']['Weekday'].value_counts()"
   ]
  },
  {
   "cell_type": "code",
   "execution_count": 58,
   "id": "0fd5ed87",
   "metadata": {},
   "outputs": [
    {
     "data": {
      "text/plain": [
       "6    99\n",
       "5    96\n",
       "2    77\n",
       "4    76\n",
       "1    57\n",
       "3    56\n",
       "0    46\n",
       "Name: Weekday, dtype: int64"
      ]
     },
     "execution_count": 58,
     "metadata": {},
     "output_type": "execute_result"
    }
   ],
   "source": [
    "sales[sales['결제수단']=='배민페이(카드결제)']['Weekday'].value_counts()"
   ]
  },
  {
   "cell_type": "code",
   "execution_count": 59,
   "id": "e1862342",
   "metadata": {},
   "outputs": [
    {
     "data": {
      "text/plain": [
       "4    4\n",
       "2    3\n",
       "6    1\n",
       "1    1\n",
       "3    1\n",
       "5    1\n",
       "Name: Weekday, dtype: int64"
      ]
     },
     "execution_count": 59,
     "metadata": {},
     "output_type": "execute_result"
    }
   ],
   "source": [
    "sales[sales['결제수단']=='만나서결제-카드']['Weekday'].value_counts()"
   ]
  },
  {
   "cell_type": "code",
   "execution_count": 60,
   "id": "ba4372d6",
   "metadata": {},
   "outputs": [
    {
     "data": {
      "text/plain": [
       "4    105\n",
       "5    102\n",
       "6     89\n",
       "2     80\n",
       "1     79\n",
       "3     75\n",
       "0     59\n",
       "Name: Weekday, dtype: int64"
      ]
     },
     "execution_count": 60,
     "metadata": {},
     "output_type": "execute_result"
    }
   ],
   "source": [
    "sales[sales['결제수단']=='카카오페이']['Weekday'].value_counts()"
   ]
  },
  {
   "cell_type": "code",
   "execution_count": 61,
   "id": "69a073a2",
   "metadata": {},
   "outputs": [
    {
     "data": {
      "text/plain": [
       "5    22\n",
       "4    20\n",
       "1    16\n",
       "6    15\n",
       "0    11\n",
       "2    10\n",
       "3    10\n",
       "Name: Weekday, dtype: int64"
      ]
     },
     "execution_count": 61,
     "metadata": {},
     "output_type": "execute_result"
    }
   ],
   "source": [
    "sales[sales['결제수단']=='토스']['Weekday'].value_counts()"
   ]
  },
  {
   "cell_type": "code",
   "execution_count": 62,
   "id": "92c9d781",
   "metadata": {},
   "outputs": [
    {
     "data": {
      "text/plain": [
       "5    20\n",
       "0    16\n",
       "4    15\n",
       "6    14\n",
       "2    12\n",
       "1     8\n",
       "3     5\n",
       "Name: Weekday, dtype: int64"
      ]
     },
     "execution_count": 62,
     "metadata": {},
     "output_type": "execute_result"
    }
   ],
   "source": [
    "sales[sales['결제수단']=='배민페이머니']['Weekday'].value_counts()"
   ]
  },
  {
   "cell_type": "code",
   "execution_count": 63,
   "id": "70e7d7ec",
   "metadata": {},
   "outputs": [
    {
     "data": {
      "text/plain": [
       "4    1\n",
       "2    1\n",
       "3    1\n",
       "Name: Weekday, dtype: int64"
      ]
     },
     "execution_count": 63,
     "metadata": {},
     "output_type": "execute_result"
    }
   ],
   "source": [
    "sales[sales['결제수단']=='OK캐쉬백']['Weekday'].value_counts()"
   ]
  },
  {
   "cell_type": "code",
   "execution_count": 64,
   "id": "6594fd39",
   "metadata": {},
   "outputs": [
    {
     "data": {
      "text/plain": [
       "6    7\n",
       "5    6\n",
       "2    6\n",
       "0    5\n",
       "4    2\n",
       "3    1\n",
       "Name: Weekday, dtype: int64"
      ]
     },
     "execution_count": 64,
     "metadata": {},
     "output_type": "execute_result"
    }
   ],
   "source": [
    "sales[sales['결제수단']=='상품권']['Weekday'].value_counts()"
   ]
  },
  {
   "cell_type": "code",
   "execution_count": 65,
   "id": "7a306f74",
   "metadata": {},
   "outputs": [
    {
     "data": {
      "text/plain": [
       "1    2\n",
       "2    1\n",
       "4    1\n",
       "Name: Weekday, dtype: int64"
      ]
     },
     "execution_count": 65,
     "metadata": {},
     "output_type": "execute_result"
    }
   ],
   "source": [
    "sales[sales['결제수단']=='L.POINT']['Weekday'].value_counts()"
   ]
  },
  {
   "cell_type": "code",
   "execution_count": 66,
   "id": "49031efc",
   "metadata": {},
   "outputs": [
    {
     "data": {
      "text/plain": [
       "5    35\n",
       "4    31\n",
       "0    30\n",
       "3    30\n",
       "1    23\n",
       "6    23\n",
       "2    22\n",
       "Name: Weekday, dtype: int64"
      ]
     },
     "execution_count": 66,
     "metadata": {},
     "output_type": "execute_result"
    }
   ],
   "source": [
    "sales[sales['결제수단']=='배민페이(계좌이체)']['Weekday'].value_counts()"
   ]
  },
  {
   "cell_type": "markdown",
   "id": "5fd48501",
   "metadata": {},
   "source": [
    "- #### 결제수단별 주문이 많은 요일은 금, 토, 일이다."
   ]
  },
  {
   "cell_type": "code",
   "execution_count": 14,
   "id": "bd3d3541",
   "metadata": {},
   "outputs": [
    {
     "data": {
      "text/html": [
       "<div>\n",
       "<style scoped>\n",
       "    .dataframe tbody tr th:only-of-type {\n",
       "        vertical-align: middle;\n",
       "    }\n",
       "\n",
       "    .dataframe tbody tr th {\n",
       "        vertical-align: top;\n",
       "    }\n",
       "\n",
       "    .dataframe thead th {\n",
       "        text-align: right;\n",
       "    }\n",
       "</style>\n",
       "<table border=\"1\" class=\"dataframe\">\n",
       "  <thead>\n",
       "    <tr style=\"text-align: right;\">\n",
       "      <th></th>\n",
       "      <th>주문일시</th>\n",
       "      <th>주문번호</th>\n",
       "      <th>매출구분명</th>\n",
       "      <th>결제수단</th>\n",
       "      <th>공급가액</th>\n",
       "      <th>부가세</th>\n",
       "      <th>합계</th>\n",
       "      <th>YearMonth</th>\n",
       "      <th>Week</th>\n",
       "    </tr>\n",
       "  </thead>\n",
       "  <tbody>\n",
       "    <tr>\n",
       "      <th>0</th>\n",
       "      <td>2021-01-01</td>\n",
       "      <td>B0UG00RHPT</td>\n",
       "      <td>기타매출</td>\n",
       "      <td>쿠폰</td>\n",
       "      <td>909 원</td>\n",
       "      <td>91 원</td>\n",
       "      <td>1,000 원</td>\n",
       "      <td>2021-01</td>\n",
       "      <td>00</td>\n",
       "    </tr>\n",
       "    <tr>\n",
       "      <th>1</th>\n",
       "      <td>2021-01-01</td>\n",
       "      <td>B0UG00U5GK</td>\n",
       "      <td>기타매출</td>\n",
       "      <td>회원포인트</td>\n",
       "      <td>636 원</td>\n",
       "      <td>64 원</td>\n",
       "      <td>700 원</td>\n",
       "      <td>2021-01</td>\n",
       "      <td>00</td>\n",
       "    </tr>\n",
       "    <tr>\n",
       "      <th>2</th>\n",
       "      <td>2021-01-01</td>\n",
       "      <td>B0UG00XD3U</td>\n",
       "      <td>기타매출</td>\n",
       "      <td>쿠폰</td>\n",
       "      <td>909 원</td>\n",
       "      <td>91 원</td>\n",
       "      <td>1,000 원</td>\n",
       "      <td>2021-01</td>\n",
       "      <td>00</td>\n",
       "    </tr>\n",
       "    <tr>\n",
       "      <th>3</th>\n",
       "      <td>2021-01-01</td>\n",
       "      <td>B0UG00XD3U</td>\n",
       "      <td>기타매출</td>\n",
       "      <td>회원포인트</td>\n",
       "      <td>273 원</td>\n",
       "      <td>27 원</td>\n",
       "      <td>300 원</td>\n",
       "      <td>2021-01</td>\n",
       "      <td>00</td>\n",
       "    </tr>\n",
       "    <tr>\n",
       "      <th>4</th>\n",
       "      <td>2021-01-01</td>\n",
       "      <td>B0UG01BFVX</td>\n",
       "      <td>기타매출</td>\n",
       "      <td>휴대폰</td>\n",
       "      <td>10,636 원</td>\n",
       "      <td>1,064 원</td>\n",
       "      <td>11,700 원</td>\n",
       "      <td>2021-01</td>\n",
       "      <td>00</td>\n",
       "    </tr>\n",
       "  </tbody>\n",
       "</table>\n",
       "</div>"
      ],
      "text/plain": [
       "        주문일시        주문번호 매출구분명   결제수단      공급가액      부가세        합계 YearMonth  \\\n",
       "0 2021-01-01  B0UG00RHPT  기타매출     쿠폰     909 원     91 원   1,000 원   2021-01   \n",
       "1 2021-01-01  B0UG00U5GK  기타매출  회원포인트     636 원     64 원     700 원   2021-01   \n",
       "2 2021-01-01  B0UG00XD3U  기타매출     쿠폰     909 원     91 원   1,000 원   2021-01   \n",
       "3 2021-01-01  B0UG00XD3U  기타매출  회원포인트     273 원     27 원     300 원   2021-01   \n",
       "4 2021-01-01  B0UG01BFVX  기타매출    휴대폰  10,636 원  1,064 원  11,700 원   2021-01   \n",
       "\n",
       "  Week  \n",
       "0   00  \n",
       "1   00  \n",
       "2   00  \n",
       "3   00  \n",
       "4   00  "
      ]
     },
     "execution_count": 14,
     "metadata": {},
     "output_type": "execute_result"
    }
   ],
   "source": [
    "sales.head()"
   ]
  },
  {
   "cell_type": "code",
   "execution_count": null,
   "id": "4c030e59",
   "metadata": {},
   "outputs": [],
   "source": []
  },
  {
   "cell_type": "code",
   "execution_count": 24,
   "id": "b452c6ad",
   "metadata": {},
   "outputs": [
    {
     "data": {
      "text/plain": [
       "(0.0, 40000.0)"
      ]
     },
     "execution_count": 24,
     "metadata": {},
     "output_type": "execute_result"
    },
    {
     "data": {
      "image/png": "[encoded data removed]",
      "text/plain": [
       "<Figure size 576x432 with 1 Axes>"
      ]
     },
     "metadata": {
      "needs_background": "light"
     },
     "output_type": "display_data"
    }
   ],
   "source": [
    "font_path = \"C:/Users/katenam/AppData/Local/Microsoft/Windows/Fonts/malgun.ttf\"\n",
    "font = font_manager.FontProperties(fname=font_path).get_name()\n",
    "rc('font', family=font)\n",
    "\n",
    "plt.figure(figsize=(8,6))\n",
    "sns.distplot(sales['합계'], kde=True)\n",
    "plt.xlim([0,40000])"
   ]
  },
  {
   "cell_type": "code",
   "execution_count": 21,
   "id": "06dec1d2",
   "metadata": {},
   "outputs": [
    {
     "data": {
      "text/plain": [
       "count     3666.000000\n",
       "mean     12939.026732\n",
       "std       7469.886639\n",
       "min          1.000000\n",
       "25%      11500.000000\n",
       "50%      13500.000000\n",
       "75%      16200.000000\n",
       "max      85100.000000\n",
       "Name: 합계, dtype: float64"
      ]
     },
     "execution_count": 21,
     "metadata": {},
     "output_type": "execute_result"
    }
   ],
   "source": [
    "sales['합계'].describe()"
   ]
  },
  {
   "cell_type": "markdown",
   "id": "2d6b6438",
   "metadata": {},
   "source": [
    "- #### 5000원 미만의 메뉴와 10000원 - 16000원 금액대 사이의 메뉴가 잘 팔린다"
   ]
  },
  {
   "cell_type": "code",
   "execution_count": 25,
   "id": "72919aee",
   "metadata": {},
   "outputs": [
    {
     "data": {
      "text/plain": [
       "array(['기타매출', '카드매출', '현금매출'], dtype=object)"
      ]
     },
     "execution_count": 25,
     "metadata": {},
     "output_type": "execute_result"
    }
   ],
   "source": [
    "sales['매출구분명'].unique()"
   ]
  },
  {
   "cell_type": "code",
   "execution_count": 27,
   "id": "c1c9014e",
   "metadata": {},
   "outputs": [
    {
     "data": {
      "text/html": [
       "<div>\n",
       "<style scoped>\n",
       "    .dataframe tbody tr th:only-of-type {\n",
       "        vertical-align: middle;\n",
       "    }\n",
       "\n",
       "    .dataframe tbody tr th {\n",
       "        vertical-align: top;\n",
       "    }\n",
       "\n",
       "    .dataframe thead th {\n",
       "        text-align: right;\n",
       "    }\n",
       "</style>\n",
       "<table border=\"1\" class=\"dataframe\">\n",
       "  <thead>\n",
       "    <tr style=\"text-align: right;\">\n",
       "      <th></th>\n",
       "      <th>합계</th>\n",
       "    </tr>\n",
       "  </thead>\n",
       "  <tbody>\n",
       "    <tr>\n",
       "      <th>count</th>\n",
       "      <td>749.000000</td>\n",
       "    </tr>\n",
       "    <tr>\n",
       "      <th>mean</th>\n",
       "      <td>4080.873164</td>\n",
       "    </tr>\n",
       "    <tr>\n",
       "      <th>std</th>\n",
       "      <td>6427.581973</td>\n",
       "    </tr>\n",
       "    <tr>\n",
       "      <th>min</th>\n",
       "      <td>1.000000</td>\n",
       "    </tr>\n",
       "    <tr>\n",
       "      <th>25%</th>\n",
       "      <td>500.000000</td>\n",
       "    </tr>\n",
       "    <tr>\n",
       "      <th>50%</th>\n",
       "      <td>1000.000000</td>\n",
       "    </tr>\n",
       "    <tr>\n",
       "      <th>75%</th>\n",
       "      <td>3000.000000</td>\n",
       "    </tr>\n",
       "    <tr>\n",
       "      <th>max</th>\n",
       "      <td>42700.000000</td>\n",
       "    </tr>\n",
       "  </tbody>\n",
       "</table>\n",
       "</div>"
      ],
      "text/plain": [
       "                 합계\n",
       "count    749.000000\n",
       "mean    4080.873164\n",
       "std     6427.581973\n",
       "min        1.000000\n",
       "25%      500.000000\n",
       "50%     1000.000000\n",
       "75%     3000.000000\n",
       "max    42700.000000"
      ]
     },
     "execution_count": 27,
     "metadata": {},
     "output_type": "execute_result"
    }
   ],
   "source": [
    "sales[sales['매출구분명']=='기타매출'].describe()"
   ]
  },
  {
   "cell_type": "code",
   "execution_count": 28,
   "id": "a8c3e4f4",
   "metadata": {},
   "outputs": [
    {
     "data": {
      "text/html": [
       "<div>\n",
       "<style scoped>\n",
       "    .dataframe tbody tr th:only-of-type {\n",
       "        vertical-align: middle;\n",
       "    }\n",
       "\n",
       "    .dataframe tbody tr th {\n",
       "        vertical-align: top;\n",
       "    }\n",
       "\n",
       "    .dataframe thead th {\n",
       "        text-align: right;\n",
       "    }\n",
       "</style>\n",
       "<table border=\"1\" class=\"dataframe\">\n",
       "  <thead>\n",
       "    <tr style=\"text-align: right;\">\n",
       "      <th></th>\n",
       "      <th>합계</th>\n",
       "    </tr>\n",
       "  </thead>\n",
       "  <tbody>\n",
       "    <tr>\n",
       "      <th>count</th>\n",
       "      <td>973.000000</td>\n",
       "    </tr>\n",
       "    <tr>\n",
       "      <th>mean</th>\n",
       "      <td>14370.544707</td>\n",
       "    </tr>\n",
       "    <tr>\n",
       "      <th>std</th>\n",
       "      <td>4932.106094</td>\n",
       "    </tr>\n",
       "    <tr>\n",
       "      <th>min</th>\n",
       "      <td>25.000000</td>\n",
       "    </tr>\n",
       "    <tr>\n",
       "      <th>25%</th>\n",
       "      <td>12000.000000</td>\n",
       "    </tr>\n",
       "    <tr>\n",
       "      <th>50%</th>\n",
       "      <td>13500.000000</td>\n",
       "    </tr>\n",
       "    <tr>\n",
       "      <th>75%</th>\n",
       "      <td>16000.000000</td>\n",
       "    </tr>\n",
       "    <tr>\n",
       "      <th>max</th>\n",
       "      <td>47700.000000</td>\n",
       "    </tr>\n",
       "  </tbody>\n",
       "</table>\n",
       "</div>"
      ],
      "text/plain": [
       "                 합계\n",
       "count    973.000000\n",
       "mean   14370.544707\n",
       "std     4932.106094\n",
       "min       25.000000\n",
       "25%    12000.000000\n",
       "50%    13500.000000\n",
       "75%    16000.000000\n",
       "max    47700.000000"
      ]
     },
     "execution_count": 28,
     "metadata": {},
     "output_type": "execute_result"
    }
   ],
   "source": [
    "sales[sales['매출구분명']=='현금매출'].describe()"
   ]
  },
  {
   "cell_type": "code",
   "execution_count": 29,
   "id": "c51c39b5",
   "metadata": {},
   "outputs": [
    {
     "data": {
      "text/html": [
       "<div>\n",
       "<style scoped>\n",
       "    .dataframe tbody tr th:only-of-type {\n",
       "        vertical-align: middle;\n",
       "    }\n",
       "\n",
       "    .dataframe tbody tr th {\n",
       "        vertical-align: top;\n",
       "    }\n",
       "\n",
       "    .dataframe thead th {\n",
       "        text-align: right;\n",
       "    }\n",
       "</style>\n",
       "<table border=\"1\" class=\"dataframe\">\n",
       "  <thead>\n",
       "    <tr style=\"text-align: right;\">\n",
       "      <th></th>\n",
       "      <th>합계</th>\n",
       "    </tr>\n",
       "  </thead>\n",
       "  <tbody>\n",
       "    <tr>\n",
       "      <th>count</th>\n",
       "      <td>1944.000000</td>\n",
       "    </tr>\n",
       "    <tr>\n",
       "      <th>mean</th>\n",
       "      <td>15635.472222</td>\n",
       "    </tr>\n",
       "    <tr>\n",
       "      <th>std</th>\n",
       "      <td>6215.247316</td>\n",
       "    </tr>\n",
       "    <tr>\n",
       "      <th>min</th>\n",
       "      <td>500.000000</td>\n",
       "    </tr>\n",
       "    <tr>\n",
       "      <th>25%</th>\n",
       "      <td>12500.000000</td>\n",
       "    </tr>\n",
       "    <tr>\n",
       "      <th>50%</th>\n",
       "      <td>14400.000000</td>\n",
       "    </tr>\n",
       "    <tr>\n",
       "      <th>75%</th>\n",
       "      <td>17000.000000</td>\n",
       "    </tr>\n",
       "    <tr>\n",
       "      <th>max</th>\n",
       "      <td>85100.000000</td>\n",
       "    </tr>\n",
       "  </tbody>\n",
       "</table>\n",
       "</div>"
      ],
      "text/plain": [
       "                 합계\n",
       "count   1944.000000\n",
       "mean   15635.472222\n",
       "std     6215.247316\n",
       "min      500.000000\n",
       "25%    12500.000000\n",
       "50%    14400.000000\n",
       "75%    17000.000000\n",
       "max    85100.000000"
      ]
     },
     "execution_count": 29,
     "metadata": {},
     "output_type": "execute_result"
    }
   ],
   "source": [
    "sales[sales['매출구분명']=='카드매출'].describe()"
   ]
  },
  {
   "cell_type": "code",
   "execution_count": 33,
   "id": "08f91368",
   "metadata": {},
   "outputs": [],
   "source": [
    "pay = sales['결제수단'].unique()"
   ]
  },
  {
   "cell_type": "code",
   "execution_count": 31,
   "id": "4603e991",
   "metadata": {},
   "outputs": [
    {
     "data": {
      "text/plain": [
       "2021-10    58\n",
       "2021-09    48\n",
       "2021-07    40\n",
       "2021-08    39\n",
       "2021-11    29\n",
       "2021-06    26\n",
       "2021-01    25\n",
       "2021-03    16\n",
       "2021-02    14\n",
       "2021-04    11\n",
       "2021-05     8\n",
       "Name: YearMonth, dtype: int64"
      ]
     },
     "execution_count": 31,
     "metadata": {},
     "output_type": "execute_result"
    }
   ],
   "source": [
    "sales[sales['결제수단']=='쿠폰']['YearMonth'].value_counts()"
   ]
  },
  {
   "cell_type": "code",
   "execution_count": 35,
   "id": "c030cd8e",
   "metadata": {},
   "outputs": [
    {
     "name": "stdout",
     "output_type": "stream",
     "text": [
      "---------------------------------------\n",
      "쿠폰\n",
      "2021-10    58\n",
      "2021-09    48\n",
      "2021-07    40\n",
      "2021-08    39\n",
      "2021-11    29\n",
      "2021-06    26\n",
      "2021-01    25\n",
      "2021-03    16\n",
      "2021-02    14\n",
      "2021-04    11\n",
      "2021-05     8\n",
      "Name: YearMonth, dtype: int64\n",
      "---------------------------------------\n",
      "회원포인트\n",
      "2021-06    30\n",
      "2021-03    20\n",
      "2021-01    17\n",
      "2021-02    12\n",
      "2021-04    12\n",
      "2021-05    12\n",
      "2021-10    12\n",
      "2021-07    11\n",
      "2021-11    11\n",
      "2021-08     8\n",
      "2021-09     8\n",
      "Name: YearMonth, dtype: int64\n",
      "---------------------------------------\n",
      "휴대폰\n",
      "2021-01    27\n",
      "2021-02    18\n",
      "2021-04    18\n",
      "2021-10    17\n",
      "2021-03    16\n",
      "2021-05    11\n",
      "2021-08    10\n",
      "2021-06     8\n",
      "2021-07     8\n",
      "2021-09     7\n",
      "2021-11     2\n",
      "Name: YearMonth, dtype: int64\n",
      "---------------------------------------\n",
      "네이버페이\n",
      "2021-01    62\n",
      "2021-10    57\n",
      "2021-06    56\n",
      "2021-03    54\n",
      "2021-09    51\n",
      "2021-04    44\n",
      "2021-05    38\n",
      "2021-07    38\n",
      "2021-08    37\n",
      "2021-02    35\n",
      "2021-11    21\n",
      "Name: YearMonth, dtype: int64\n",
      "---------------------------------------\n",
      "신용카드\n",
      "2021-06    138\n",
      "2021-01    122\n",
      "2021-03    121\n",
      "2021-02    106\n",
      "2021-07     96\n",
      "2021-09     96\n",
      "2021-04     93\n",
      "2021-05     80\n",
      "2021-10     70\n",
      "2021-08     59\n",
      "2021-11     54\n",
      "Name: YearMonth, dtype: int64\n",
      "---------------------------------------\n",
      "배민페이(카드결제)\n",
      "2021-10    71\n",
      "2021-06    70\n",
      "2021-09    54\n",
      "2021-01    51\n",
      "2021-03    51\n",
      "2021-07    41\n",
      "2021-08    40\n",
      "2021-11    36\n",
      "2021-05    33\n",
      "2021-02    30\n",
      "2021-04    30\n",
      "Name: YearMonth, dtype: int64\n",
      "---------------------------------------\n",
      "카카오페이\n",
      "2021-06    72\n",
      "2021-01    66\n",
      "2021-09    59\n",
      "2021-04    58\n",
      "2021-03    57\n",
      "2021-10    54\n",
      "2021-08    53\n",
      "2021-02    52\n",
      "2021-07    45\n",
      "2021-05    41\n",
      "2021-11    32\n",
      "Name: YearMonth, dtype: int64\n",
      "---------------------------------------\n",
      "토스\n",
      "2021-06    16\n",
      "2021-07    13\n",
      "2021-10    13\n",
      "2021-01    12\n",
      "2021-03    10\n",
      "2021-04    10\n",
      "2021-08     8\n",
      "2021-05     7\n",
      "2021-02     5\n",
      "2021-09     5\n",
      "2021-11     5\n",
      "Name: YearMonth, dtype: int64\n",
      "---------------------------------------\n",
      "배민페이(계좌이체)\n",
      "2021-01    37\n",
      "2021-02    26\n",
      "2021-06    20\n",
      "2021-08    19\n",
      "2021-03    17\n",
      "2021-10    16\n",
      "2021-09    14\n",
      "2021-04    12\n",
      "2021-07    12\n",
      "2021-05    11\n",
      "2021-11    10\n",
      "Name: YearMonth, dtype: int64\n",
      "---------------------------------------\n",
      "L.POINT\n",
      "2021-06    2\n",
      "2021-01    1\n",
      "2021-09    1\n",
      "Name: YearMonth, dtype: int64\n",
      "---------------------------------------\n",
      "상품권\n",
      "2021-09    6\n",
      "2021-10    5\n",
      "2021-05    4\n",
      "2021-06    4\n",
      "2021-03    3\n",
      "2021-08    3\n",
      "2021-01    1\n",
      "2021-04    1\n",
      "Name: YearMonth, dtype: int64\n",
      "---------------------------------------\n",
      "OK캐쉬백\n",
      "2021-02    1\n",
      "2021-07    1\n",
      "2021-10    1\n",
      "Name: YearMonth, dtype: int64\n",
      "---------------------------------------\n",
      "배민페이머니\n",
      "2021-09    22\n",
      "2021-10    18\n",
      "2021-05    13\n",
      "2021-08    12\n",
      "2021-06    10\n",
      "2021-11     8\n",
      "2021-07     4\n",
      "2021-04     3\n",
      "Name: YearMonth, dtype: int64\n",
      "---------------------------------------\n",
      "만나서결제-카드\n",
      "2021-10    5\n",
      "2021-09    2\n",
      "2021-11    2\n",
      "2021-07    1\n",
      "2021-08    1\n",
      "Name: YearMonth, dtype: int64\n"
     ]
    }
   ],
   "source": [
    "for i in pay:\n",
    "    print('---------------------------------------')\n",
    "    print(i)\n",
    "    print(sales[sales['결제수단']==i]['YearMonth'].value_counts())"
   ]
  },
  {
   "cell_type": "code",
   "execution_count": 37,
   "id": "c0ef3481",
   "metadata": {},
   "outputs": [
    {
     "data": {
      "text/html": [
       "<div>\n",
       "<style scoped>\n",
       "    .dataframe tbody tr th:only-of-type {\n",
       "        vertical-align: middle;\n",
       "    }\n",
       "\n",
       "    .dataframe tbody tr th {\n",
       "        vertical-align: top;\n",
       "    }\n",
       "\n",
       "    .dataframe thead th {\n",
       "        text-align: right;\n",
       "    }\n",
       "</style>\n",
       "<table border=\"1\" class=\"dataframe\">\n",
       "  <thead>\n",
       "    <tr style=\"text-align: right;\">\n",
       "      <th></th>\n",
       "      <th>날짜</th>\n",
       "      <th>닉네임</th>\n",
       "      <th>별점(1~5)</th>\n",
       "      <th>배달평가(좋다,아쉽다)</th>\n",
       "      <th>주문메뉴1</th>\n",
       "      <th>주문메뉴2</th>\n",
       "      <th>주문메뉴3</th>\n",
       "      <th>주문메뉴4</th>\n",
       "      <th>사진1</th>\n",
       "      <th>사진2</th>\n",
       "      <th>리뷰</th>\n",
       "    </tr>\n",
       "  </thead>\n",
       "  <tbody>\n",
       "    <tr>\n",
       "      <th>0</th>\n",
       "      <td>2021.11</td>\n",
       "      <td>동망산</td>\n",
       "      <td>5</td>\n",
       "      <td>NaN</td>\n",
       "      <td>애넘 밀크티</td>\n",
       "      <td>마약 크로플</td>\n",
       "      <td>NaN</td>\n",
       "      <td>NaN</td>\n",
       "      <td>63017920_190218009622023017_1_b.jpg</td>\n",
       "      <td>36674163_190113002000191113_2_b.jpg</td>\n",
       "      <td>시켜먹고 그 다음날 또 시키게 만드는 마력의 디에스티... 이틀연속 시켜먹었습니다....</td>\n",
       "    </tr>\n",
       "    <tr>\n",
       "      <th>1</th>\n",
       "      <td>2021.11</td>\n",
       "      <td>khee****</td>\n",
       "      <td>5</td>\n",
       "      <td>좋아요</td>\n",
       "      <td>마약 크로플</td>\n",
       "      <td>애넘 밀크티</td>\n",
       "      <td>그릭요거트 90g</td>\n",
       "      <td>NaN</td>\n",
       "      <td>23172422_150811001989152612_1_b.jpg</td>\n",
       "      <td>NaN</td>\n",
       "      <td>저의 최애 크로플가게입니다. 오늘도 서비스가 대단히 대단합니다^^ 전 그릭요거트만 ...</td>\n",
       "    </tr>\n",
       "    <tr>\n",
       "      <th>2</th>\n",
       "      <td>2021.11</td>\n",
       "      <td>동망산</td>\n",
       "      <td>5</td>\n",
       "      <td>NaN</td>\n",
       "      <td>민트초코 스무디</td>\n",
       "      <td>생딸기생크림 크로플</td>\n",
       "      <td>NaN</td>\n",
       "      <td>NaN</td>\n",
       "      <td>43700183_190218009622210819_1_b.jpg</td>\n",
       "      <td>23172423_150811001989152612_2_b.jpg</td>\n",
       "      <td>진짜 맛있어요..!! 딸기도 완전 많구 크림도 안느끼해여 코코아파우더를 뿌려주신건지...</td>\n",
       "    </tr>\n",
       "    <tr>\n",
       "      <th>3</th>\n",
       "      <td>2021.11</td>\n",
       "      <td>버민</td>\n",
       "      <td>5</td>\n",
       "      <td>좋아요</td>\n",
       "      <td>애넘 밀크티</td>\n",
       "      <td>마약 크로플</td>\n",
       "      <td>NaN</td>\n",
       "      <td>NaN</td>\n",
       "      <td>19148629_190611001358141908_1_b.jpg</td>\n",
       "      <td>NaN</td>\n",
       "      <td>서비스까지 넘무 감사합니다 ㅠ 믿고..먹는..디에스티.. 크로플도 최고입니다ㅜ 번창...</td>\n",
       "    </tr>\n",
       "    <tr>\n",
       "      <th>4</th>\n",
       "      <td>2021.11</td>\n",
       "      <td>Good</td>\n",
       "      <td>5</td>\n",
       "      <td>좋아요</td>\n",
       "      <td>애플시나몬 크로플</td>\n",
       "      <td>애넘 밀크티</td>\n",
       "      <td>샤인청포도주스</td>\n",
       "      <td>NaN</td>\n",
       "      <td>NaN</td>\n",
       "      <td>NaN</td>\n",
       "      <td>크로플 맛있어요! 애플시나몬에 사과가 찐이에요! 샤인청포도도 찐 청포도라 맛있어요 ...</td>\n",
       "    </tr>\n",
       "  </tbody>\n",
       "</table>\n",
       "</div>"
      ],
      "text/plain": [
       "        날짜       닉네임  별점(1~5) 배달평가(좋다,아쉽다)      주문메뉴1       주문메뉴2      주문메뉴3  \\\n",
       "0  2021.11       동망산        5          NaN     애넘 밀크티      마약 크로플        NaN   \n",
       "1  2021.11  khee****        5          좋아요     마약 크로플      애넘 밀크티  그릭요거트 90g   \n",
       "2  2021.11       동망산        5          NaN   민트초코 스무디  생딸기생크림 크로플        NaN   \n",
       "3  2021.11        버민        5          좋아요     애넘 밀크티      마약 크로플        NaN   \n",
       "4  2021.11      Good        5          좋아요  애플시나몬 크로플      애넘 밀크티    샤인청포도주스   \n",
       "\n",
       "  주문메뉴4                                  사진1  \\\n",
       "0   NaN  63017920_190218009622023017_1_b.jpg   \n",
       "1   NaN  23172422_150811001989152612_1_b.jpg   \n",
       "2   NaN  43700183_190218009622210819_1_b.jpg   \n",
       "3   NaN  19148629_190611001358141908_1_b.jpg   \n",
       "4   NaN                                  NaN   \n",
       "\n",
       "                                   사진2  \\\n",
       "0  36674163_190113002000191113_2_b.jpg   \n",
       "1                                  NaN   \n",
       "2  23172423_150811001989152612_2_b.jpg   \n",
       "3                                  NaN   \n",
       "4                                  NaN   \n",
       "\n",
       "                                                  리뷰  \n",
       "0  시켜먹고 그 다음날 또 시키게 만드는 마력의 디에스티... 이틀연속 시켜먹었습니다....  \n",
       "1  저의 최애 크로플가게입니다. 오늘도 서비스가 대단히 대단합니다^^ 전 그릭요거트만 ...  \n",
       "2  진짜 맛있어요..!! 딸기도 완전 많구 크림도 안느끼해여 코코아파우더를 뿌려주신건지...  \n",
       "3  서비스까지 넘무 감사합니다 ㅠ 믿고..먹는..디에스티.. 크로플도 최고입니다ㅜ 번창...  \n",
       "4  크로플 맛있어요! 애플시나몬에 사과가 찐이에요! 샤인청포도도 찐 청포도라 맛있어요 ...  "
      ]
     },
     "execution_count": 37,
     "metadata": {},
     "output_type": "execute_result"
    }
   ],
   "source": [
    "review2021.head()"
   ]
  },
  {
   "cell_type": "code",
   "execution_count": 38,
   "id": "0c905251",
   "metadata": {},
   "outputs": [
    {
     "data": {
      "text/plain": [
       "안녕          18\n",
       "vitamin     12\n",
       "tnqk****     9\n",
       "blac****     8\n",
       "엘류하          7\n",
       "            ..\n",
       "Alex         1\n",
       "맛있어요오        1\n",
       "맛집탐방         1\n",
       "우유           1\n",
       "배민이용자        1\n",
       "Name: 닉네임, Length: 553, dtype: int64"
      ]
     },
     "execution_count": 38,
     "metadata": {},
     "output_type": "execute_result"
    }
   ],
   "source": [
    "review2021['닉네임'].value_counts()"
   ]
  },
  {
   "cell_type": "code",
   "execution_count": null,
   "id": "a67adede",
   "metadata": {},
   "outputs": [],
   "source": [
    " = text.replace(\" \",\"\")"
   ]
  },
  {
   "cell_type": "code",
   "execution_count": null,
   "id": "b01c08a6",
   "metadata": {},
   "outputs": [],
   "source": []
  },
  {
   "cell_type": "code",
   "execution_count": 80,
   "id": "36b2a3d6",
   "metadata": {
    "scrolled": true
   },
   "outputs": [
    {
     "data": {
      "text/plain": [
       "'주문메뉴1    애넘 밀크티\\n주문메뉴2    마약 크로플\\n주문메뉴3       NaN\\n주문메뉴4       NaN\\nName: 0, dtype: object'"
      ]
     },
     "execution_count": 80,
     "metadata": {},
     "output_type": "execute_result"
    }
   ],
   "source": [
    "review2021['menu'] = review2021[['주문메뉴1','주문메뉴2','주문메뉴3','주문메뉴4']].apply(lambda x:''.join(str(x)), axis=1)\n",
    "\n",
    "\n",
    "review2021['menu']=review2021['menu'].replace('\\n',',')\n",
    "review2021['menu'][0]"
   ]
  },
  {
   "cell_type": "code",
   "execution_count": 41,
   "id": "ba15708f",
   "metadata": {},
   "outputs": [
    {
     "name": "stdout",
     "output_type": "stream",
     "text": [
      "<class 'pandas.core.frame.DataFrame'>\n",
      "RangeIndex: 799 entries, 0 to 798\n",
      "Data columns (total 11 columns):\n",
      " #   Column        Non-Null Count  Dtype \n",
      "---  ------        --------------  ----- \n",
      " 0   날짜            799 non-null    object\n",
      " 1   닉네임           799 non-null    object\n",
      " 2   별점(1~5)       799 non-null    int64 \n",
      " 3   배달평가(좋다,아쉽다)  277 non-null    object\n",
      " 4   주문메뉴1         790 non-null    object\n",
      " 5   주문메뉴2         686 non-null    object\n",
      " 6   주문메뉴3         339 non-null    object\n",
      " 7   주문메뉴4         90 non-null     object\n",
      " 8   사진1           535 non-null    object\n",
      " 9   사진2           151 non-null    object\n",
      " 10  리뷰            717 non-null    object\n",
      "dtypes: int64(1), object(10)\n",
      "memory usage: 68.8+ KB\n"
     ]
    }
   ],
   "source": [
    "review2021.info()"
   ]
  },
  {
   "cell_type": "code",
   "execution_count": null,
   "id": "867fd530",
   "metadata": {},
   "outputs": [],
   "source": [
    "def split_data(a,b,c,d):\n",
    "    a = a."
   ]
  }
 ],
 "metadata": {
  "kernelspec": {
   "display_name": "Python 3 (ipykernel)",
   "language": "python",
   "name": "python3"
  },
  "language_info": {
   "codemirror_mode": {
    "name": "ipython",
    "version": 3
   },
   "file_extension": ".py",
   "mimetype": "text/x-python",
   "name": "python",
   "nbconvert_exporter": "python",
   "pygments_lexer": "ipython3",
   "version": "3.9.12"
  }
 },
 "nbformat": 4,
 "nbformat_minor": 5
}
